{
 "cells": [
  {
   "cell_type": "code",
   "execution_count": 1,
   "metadata": {},
   "outputs": [],
   "source": [
    "import requests"
   ]
  },
  {
   "cell_type": "code",
   "execution_count": 15,
   "metadata": {},
   "outputs": [],
   "source": [
    "response = requests.get(\"https://en.wikipedia.org/w/api.php?action=query&list=categorymembers&cmtitle=Category:Machine_learning&format=json\")"
   ]
  },
  {
   "cell_type": "code",
   "execution_count": 16,
   "metadata": {},
   "outputs": [
    {
     "data": {
      "text/plain": [
       "'{\"batchcomplete\":\"\",\"continue\":{\"cmcontinue\":\"page|273d334349374d353f044b2f3d2f2b4d3743410117018f16|50773876\",\"continue\":\"-||\"},\"query\":{\"categorymembers\":[{\"pageid\":43385931,\"ns\":0,\"title\":\"Data exploration\"},{\"pageid\":49082762,\"ns\":0,\"title\":\"List of datasets for machine learning research\"},{\"pageid\":233488,\"ns\":0,\"title\":\"Machine learning\"},{\"pageid\":53587467,\"ns\":0,\"title\":\"Outline of machine learning\"},{\"pageid\":3771060,\"ns\":0,\"title\":\"Accuracy paradox\"},{\"pageid\":43808044,\"ns\":0,\"title\":\"Action model learning\"},{\"pageid\":28801798,\"ns\":0,\"title\":\"Active learning (machine learning)\"},{\"pageid\":45049676,\"ns\":0,\"title\":\"Adversarial machine learning\"},{\"pageid\":52642349,\"ns\":0,\"title\":\"AIVA\"},{\"pageid\":30511763,\"ns\":0,\"title\":\"AIXI\"}]}}'"
      ]
     },
     "execution_count": 16,
     "metadata": {},
     "output_type": "execute_result"
    }
   ],
   "source": [
    "response.text"
   ]
  },
  {
   "cell_type": "code",
   "execution_count": 11,
   "metadata": {},
   "outputs": [
    {
     "data": {
      "text/plain": [
       "'{\"batchcomplete\":\"\",\"continue\":{\"cmcontinue\":\"page|273d334349374d353f044b2f3d2f2b4d3743410117018f16|50773876\",\"continue\":\"-||\"},\"query\":{\"categorymembers\":[{\"pageid\":43385931,\"ns\":0,\"title\":\"Data exploration\"},{\"pageid\":49082762,\"ns\":0,\"title\":\"List of datasets for machine learning research\"},{\"pageid\":233488,\"ns\":0,\"title\":\"Machine learning\"},{\"pageid\":53587467,\"ns\":0,\"title\":\"Outline of machine learning\"},{\"pageid\":3771060,\"ns\":0,\"title\":\"Accuracy paradox\"},{\"pageid\":43808044,\"ns\":0,\"title\":\"Action model learning\"},{\"pageid\":28801798,\"ns\":0,\"title\":\"Active learning (machine learning)\"},{\"pageid\":45049676,\"ns\":0,\"title\":\"Adversarial machine learning\"},{\"pageid\":52642349,\"ns\":0,\"title\":\"AIVA\"},{\"pageid\":30511763,\"ns\":0,\"title\":\"AIXI\"}]}}'"
      ]
     },
     "execution_count": 11,
     "metadata": {},
     "output_type": "execute_result"
    }
   ],
   "source": [
    "data"
   ]
  },
  {
   "cell_type": "code",
   "execution_count": null,
   "metadata": {},
   "outputs": [],
   "source": []
  }
 ],
 "metadata": {
  "kernelspec": {
   "display_name": "Python 3",
   "language": "python",
   "name": "python3"
  },
  "language_info": {
   "codemirror_mode": {
    "name": "ipython",
    "version": 3
   },
   "file_extension": ".py",
   "mimetype": "text/x-python",
   "name": "python",
   "nbconvert_exporter": "python",
   "pygments_lexer": "ipython3",
   "version": "3.6.2"
  }
 },
 "nbformat": 4,
 "nbformat_minor": 2
}
