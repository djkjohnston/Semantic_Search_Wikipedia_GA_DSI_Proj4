{
 "cells": [
  {
   "cell_type": "code",
   "execution_count": 2,
   "metadata": {},
   "outputs": [],
   "source": [
    "import pandas as pd\n",
    "import numpy as np\n",
    "from pymongo import MongoClient\n",
    "from sklearn.feature_extraction.text import TfidfVectorizer\n",
    "from sklearn.decomposition import TruncatedSVD\n",
    "from sklearn.metrics.pairwise import cosine_similarity\n",
    "import re\n",
    "import spacy\n",
    "from tqdm import tqdm_notebook\n",
    "\n",
    "nlp = spacy.load('en')\n",
    "\n",
    "\n",
    "def cleaner(text):\n",
    "    mapping = [('&#39;', ''), \n",
    "               ('<br />', ''), \n",
    "               ('<.*>.*</.*>', ''), \n",
    "               ('\\\\ufeff', ''), \n",
    "               ('[\\d]', ''),  \n",
    "               ('\\[.*\\]', ''),  \n",
    "               ('[^a-z ]', '')]\n",
    "    for k, v in mapping:\n",
    "        text = re.sub(k, v, text)\n",
    "        \n",
    "    text = ' '.join(i.lemma_ for i in nlp(text))\n",
    "    text = ' '.join(text.split())\n",
    "    \n",
    "    return text"
   ]
  },
  {
   "cell_type": "code",
   "execution_count": null,
   "metadata": {},
   "outputs": [],
   "source": [
    "client = MongoClient('ec2-54-69-203-249.us-west-2.compute.amazonaws.com', 27016)"
   ]
  },
  {
   "cell_type": "code",
   "execution_count": null,
   "metadata": {},
   "outputs": [],
   "source": [
    "client.database_names()"
   ]
  },
  {
   "cell_type": "code",
   "execution_count": null,
   "metadata": {},
   "outputs": [],
   "source": [
    "pages_db = client['wiki']"
   ]
  },
  {
   "cell_type": "code",
   "execution_count": null,
   "metadata": {},
   "outputs": [],
   "source": [
    "pages_db.collection_names()"
   ]
  },
  {
   "cell_type": "code",
   "execution_count": null,
   "metadata": {},
   "outputs": [],
   "source": [
    "pages_coll = pages_db['wiki_pages']"
   ]
  },
  {
   "cell_type": "code",
   "execution_count": null,
   "metadata": {},
   "outputs": [],
   "source": [
    "cursor = pages_coll.find()"
   ]
  },
  {
   "cell_type": "code",
   "execution_count": null,
   "metadata": {},
   "outputs": [],
   "source": [
    "n = pages_coll.count()\n",
    "wiki_corpus = pd.DataFrame(columns = ['_id', 'pageid', 'text', 'title'])\n",
    "\n",
    "for i in tqdm_notebook(range(n)):\n",
    "    try:\n",
    "        tmp = next(cursor)\n",
    "        tmp.pop('categories') # remove categories as it is causing some issues\n",
    "        tmp['text'] = cleaner(tmp['text'].lower().replace(\"\\n\", \" \"))\n",
    "        \n",
    "        pages_coll.update_one({\"_id\": tmp[\"_id\"]}, {\"$set\": {\"clean_text\": tmp['text']}})\n",
    "\n",
    "        \n",
    "        tmp_df = pd.DataFrame(tmp, index=[i])\n",
    "\n",
    "        wiki_corpus = pd.concat([wiki_corpus, tmp_df])\n",
    "    except:\n",
    "        pass"
   ]
  },
  {
   "cell_type": "code",
   "execution_count": null,
   "metadata": {},
   "outputs": [],
   "source": [
    "wiki_corpus.shape"
   ]
  },
  {
   "cell_type": "code",
   "execution_count": null,
   "metadata": {
    "scrolled": true
   },
   "outputs": [],
   "source": [
    "wiki_corpus.head()"
   ]
  },
  {
   "cell_type": "code",
   "execution_count": null,
   "metadata": {},
   "outputs": [],
   "source": [
    "client.close()"
   ]
  },
  {
   "cell_type": "code",
   "execution_count": null,
   "metadata": {},
   "outputs": [],
   "source": [
    "wiki_corpus.columns"
   ]
  },
  {
   "cell_type": "code",
   "execution_count": null,
   "metadata": {},
   "outputs": [],
   "source": [
    "wiki_corpus = wiki_corpus.drop('text', axis = 1)"
   ]
  },
  {
   "cell_type": "code",
   "execution_count": null,
   "metadata": {},
   "outputs": [],
   "source": [
    "pass_notability_mask = wiki_corpus['clean_text'].str.contains('this article may not meet wikipedia general notability guideline') == False\n",
    "pass_issues_mask = wiki_corpus['clean_text'].str.contains('this article have multiple issue please help improve') == False"
   ]
  },
  {
   "cell_type": "code",
   "execution_count": null,
   "metadata": {},
   "outputs": [],
   "source": [
    "wiki_corpus = wiki_corpus.loc[pass_notability_mask & pass_issues_mask, :]"
   ]
  },
  {
   "cell_type": "code",
   "execution_count": null,
   "metadata": {},
   "outputs": [],
   "source": [
    "wiki_corpus.shape"
   ]
  },
  {
   "cell_type": "code",
   "execution_count": null,
   "metadata": {},
   "outputs": [],
   "source": [
    "wiki_corpus.to_pickle('wiki_corpus.pkl')"
   ]
  },
  {
   "cell_type": "code",
   "execution_count": 3,
   "metadata": {},
   "outputs": [],
   "source": [
    "wiki_corpus = pd.read_pickle('wiki_corpus.pkl')"
   ]
  },
  {
   "cell_type": "code",
   "execution_count": 17,
   "metadata": {},
   "outputs": [],
   "source": [
    "tfidf_vectorizer = TfidfVectorizer(min_df = 25, max_df = 0.50, stop_words = 'english', ngram_range=(1,2))"
   ]
  },
  {
   "cell_type": "code",
   "execution_count": 18,
   "metadata": {},
   "outputs": [],
   "source": [
    "document_term_matrix_sps = tfidf_vectorizer.fit_transform(wiki_corpus['clean_text'])"
   ]
  },
  {
   "cell_type": "code",
   "execution_count": 19,
   "metadata": {},
   "outputs": [
    {
     "data": {
      "text/plain": [
       "(42839, 59284)"
      ]
     },
     "execution_count": 19,
     "metadata": {},
     "output_type": "execute_result"
    }
   ],
   "source": [
    "# document_term_matrix_df = pd.DataFrame(document_term_matrix_sps.toarray(),\n",
    "#                                        index=wiki_corpus.index,\n",
    "#                                        columns=tfidf_vectorizer.get_feature_names())\n",
    "\n",
    "# document_term_matrix_df.head()\n",
    "document_term_matrix_sps.shape"
   ]
  },
  {
   "cell_type": "code",
   "execution_count": 20,
   "metadata": {},
   "outputs": [],
   "source": [
    "from sklearn.externals import joblib"
   ]
  },
  {
   "cell_type": "code",
   "execution_count": 21,
   "metadata": {},
   "outputs": [
    {
     "data": {
      "text/plain": [
       "['tfidf_vectorizer.pkl']"
      ]
     },
     "execution_count": 21,
     "metadata": {},
     "output_type": "execute_result"
    }
   ],
   "source": [
    "joblib.dump(tfidf_vectorizer, 'tfidf_vectorizer.pkl') "
   ]
  },
  {
   "cell_type": "markdown",
   "metadata": {},
   "source": [
    "## Document Term Matrix is over determined\n",
    "\n",
    "Use SVD to drop the number of features"
   ]
  },
  {
   "cell_type": "code",
   "execution_count": 22,
   "metadata": {},
   "outputs": [],
   "source": [
    "n_components = 100\n",
    "SVD = TruncatedSVD(n_components, random_state=42)\n",
    "component_names = [\"component_\"+str(i+1) for i in range(n_components)]"
   ]
  },
  {
   "cell_type": "code",
   "execution_count": 23,
   "metadata": {},
   "outputs": [],
   "source": [
    "svd_matrix = SVD.fit_transform(document_term_matrix_sps)"
   ]
  },
  {
   "cell_type": "code",
   "execution_count": 24,
   "metadata": {},
   "outputs": [],
   "source": [
    "# svd_matrix_df = pd.DataFrame(svd_matrix,\n",
    "#                              index=wiki_corpus.index, \n",
    "#                              columns=component_names)\n",
    "# svd_matrix_df['title'] = wiki_corpus['title']\n",
    "\n",
    "svd_matrix_df = pd.DataFrame(svd_matrix,\n",
    "                             index=wiki_corpus['title'], \n",
    "                             columns=component_names)"
   ]
  },
  {
   "cell_type": "code",
   "execution_count": 25,
   "metadata": {
    "scrolled": false
   },
   "outputs": [
    {
     "data": {
      "text/plain": [
       "(42839, 100)"
      ]
     },
     "execution_count": 25,
     "metadata": {},
     "output_type": "execute_result"
    }
   ],
   "source": [
    "svd_matrix_df.shape"
   ]
  },
  {
   "cell_type": "code",
   "execution_count": 26,
   "metadata": {},
   "outputs": [
    {
     "data": {
      "text/html": [
       "<div>\n",
       "<table border=\"1\" class=\"dataframe\">\n",
       "  <thead>\n",
       "    <tr style=\"text-align: right;\">\n",
       "      <th></th>\n",
       "      <th>component_1</th>\n",
       "      <th>component_2</th>\n",
       "      <th>component_3</th>\n",
       "      <th>component_4</th>\n",
       "      <th>component_5</th>\n",
       "      <th>component_6</th>\n",
       "      <th>component_7</th>\n",
       "      <th>component_8</th>\n",
       "      <th>component_9</th>\n",
       "      <th>component_10</th>\n",
       "      <th>...</th>\n",
       "      <th>component_91</th>\n",
       "      <th>component_92</th>\n",
       "      <th>component_93</th>\n",
       "      <th>component_94</th>\n",
       "      <th>component_95</th>\n",
       "      <th>component_96</th>\n",
       "      <th>component_97</th>\n",
       "      <th>component_98</th>\n",
       "      <th>component_99</th>\n",
       "      <th>component_100</th>\n",
       "    </tr>\n",
       "    <tr>\n",
       "      <th>title</th>\n",
       "      <th></th>\n",
       "      <th></th>\n",
       "      <th></th>\n",
       "      <th></th>\n",
       "      <th></th>\n",
       "      <th></th>\n",
       "      <th></th>\n",
       "      <th></th>\n",
       "      <th></th>\n",
       "      <th></th>\n",
       "      <th></th>\n",
       "      <th></th>\n",
       "      <th></th>\n",
       "      <th></th>\n",
       "      <th></th>\n",
       "      <th></th>\n",
       "      <th></th>\n",
       "      <th></th>\n",
       "      <th></th>\n",
       "      <th></th>\n",
       "      <th></th>\n",
       "    </tr>\n",
       "  </thead>\n",
       "  <tbody>\n",
       "    <tr>\n",
       "      <th>Activity recognition</th>\n",
       "      <td>0.071389</td>\n",
       "      <td>0.040053</td>\n",
       "      <td>0.028408</td>\n",
       "      <td>-0.069883</td>\n",
       "      <td>-0.001867</td>\n",
       "      <td>0.005348</td>\n",
       "      <td>0.006114</td>\n",
       "      <td>-0.047876</td>\n",
       "      <td>-0.018117</td>\n",
       "      <td>-0.031499</td>\n",
       "      <td>...</td>\n",
       "      <td>0.019571</td>\n",
       "      <td>-0.012486</td>\n",
       "      <td>-0.003922</td>\n",
       "      <td>0.026974</td>\n",
       "      <td>0.027402</td>\n",
       "      <td>0.014910</td>\n",
       "      <td>0.005020</td>\n",
       "      <td>0.008259</td>\n",
       "      <td>0.011405</td>\n",
       "      <td>-0.005507</td>\n",
       "    </tr>\n",
       "    <tr>\n",
       "      <th>AlchemyAPI</th>\n",
       "      <td>0.073155</td>\n",
       "      <td>0.026081</td>\n",
       "      <td>0.040616</td>\n",
       "      <td>-0.067207</td>\n",
       "      <td>-0.010691</td>\n",
       "      <td>0.002985</td>\n",
       "      <td>0.006450</td>\n",
       "      <td>-0.037876</td>\n",
       "      <td>-0.058823</td>\n",
       "      <td>-0.037097</td>\n",
       "      <td>...</td>\n",
       "      <td>0.011816</td>\n",
       "      <td>0.016043</td>\n",
       "      <td>0.010867</td>\n",
       "      <td>-0.008517</td>\n",
       "      <td>0.016883</td>\n",
       "      <td>-0.018888</td>\n",
       "      <td>-0.009693</td>\n",
       "      <td>0.006752</td>\n",
       "      <td>0.023394</td>\n",
       "      <td>0.012028</td>\n",
       "    </tr>\n",
       "    <tr>\n",
       "      <th>BigDL</th>\n",
       "      <td>0.054866</td>\n",
       "      <td>0.017018</td>\n",
       "      <td>0.025618</td>\n",
       "      <td>-0.036519</td>\n",
       "      <td>-0.008558</td>\n",
       "      <td>0.003645</td>\n",
       "      <td>-0.015233</td>\n",
       "      <td>-0.019314</td>\n",
       "      <td>-0.048705</td>\n",
       "      <td>-0.047201</td>\n",
       "      <td>...</td>\n",
       "      <td>0.000354</td>\n",
       "      <td>0.009501</td>\n",
       "      <td>0.046713</td>\n",
       "      <td>-0.035232</td>\n",
       "      <td>-0.042077</td>\n",
       "      <td>0.002097</td>\n",
       "      <td>-0.009872</td>\n",
       "      <td>0.012512</td>\n",
       "      <td>-0.034184</td>\n",
       "      <td>-0.021799</td>\n",
       "    </tr>\n",
       "    <tr>\n",
       "      <th>Caffe (software)</th>\n",
       "      <td>0.082547</td>\n",
       "      <td>0.021633</td>\n",
       "      <td>0.017583</td>\n",
       "      <td>-0.050028</td>\n",
       "      <td>-0.012164</td>\n",
       "      <td>0.004306</td>\n",
       "      <td>-0.009593</td>\n",
       "      <td>-0.030145</td>\n",
       "      <td>-0.076603</td>\n",
       "      <td>-0.053127</td>\n",
       "      <td>...</td>\n",
       "      <td>0.016038</td>\n",
       "      <td>0.009571</td>\n",
       "      <td>0.043851</td>\n",
       "      <td>-0.018377</td>\n",
       "      <td>-0.024303</td>\n",
       "      <td>-0.001933</td>\n",
       "      <td>0.012483</td>\n",
       "      <td>0.020335</td>\n",
       "      <td>-0.010086</td>\n",
       "      <td>-0.015337</td>\n",
       "    </tr>\n",
       "    <tr>\n",
       "      <th>Comparison of deep learning software</th>\n",
       "      <td>0.056958</td>\n",
       "      <td>0.028135</td>\n",
       "      <td>0.024462</td>\n",
       "      <td>-0.049099</td>\n",
       "      <td>-0.009325</td>\n",
       "      <td>0.003126</td>\n",
       "      <td>-0.003438</td>\n",
       "      <td>-0.030655</td>\n",
       "      <td>-0.007986</td>\n",
       "      <td>-0.035328</td>\n",
       "      <td>...</td>\n",
       "      <td>-0.017045</td>\n",
       "      <td>0.006319</td>\n",
       "      <td>0.003174</td>\n",
       "      <td>-0.003137</td>\n",
       "      <td>0.000909</td>\n",
       "      <td>0.000975</td>\n",
       "      <td>0.006420</td>\n",
       "      <td>0.006358</td>\n",
       "      <td>-0.004187</td>\n",
       "      <td>0.010001</td>\n",
       "    </tr>\n",
       "  </tbody>\n",
       "</table>\n",
       "<p>5 rows × 100 columns</p>\n",
       "</div>"
      ],
      "text/plain": [
       "                                      component_1  component_2  component_3  \\\n",
       "title                                                                         \n",
       "Activity recognition                     0.071389     0.040053     0.028408   \n",
       "AlchemyAPI                               0.073155     0.026081     0.040616   \n",
       "BigDL                                    0.054866     0.017018     0.025618   \n",
       "Caffe (software)                         0.082547     0.021633     0.017583   \n",
       "Comparison of deep learning software     0.056958     0.028135     0.024462   \n",
       "\n",
       "                                      component_4  component_5  component_6  \\\n",
       "title                                                                         \n",
       "Activity recognition                    -0.069883    -0.001867     0.005348   \n",
       "AlchemyAPI                              -0.067207    -0.010691     0.002985   \n",
       "BigDL                                   -0.036519    -0.008558     0.003645   \n",
       "Caffe (software)                        -0.050028    -0.012164     0.004306   \n",
       "Comparison of deep learning software    -0.049099    -0.009325     0.003126   \n",
       "\n",
       "                                      component_7  component_8  component_9  \\\n",
       "title                                                                         \n",
       "Activity recognition                     0.006114    -0.047876    -0.018117   \n",
       "AlchemyAPI                               0.006450    -0.037876    -0.058823   \n",
       "BigDL                                   -0.015233    -0.019314    -0.048705   \n",
       "Caffe (software)                        -0.009593    -0.030145    -0.076603   \n",
       "Comparison of deep learning software    -0.003438    -0.030655    -0.007986   \n",
       "\n",
       "                                      component_10      ...        \\\n",
       "title                                                   ...         \n",
       "Activity recognition                     -0.031499      ...         \n",
       "AlchemyAPI                               -0.037097      ...         \n",
       "BigDL                                    -0.047201      ...         \n",
       "Caffe (software)                         -0.053127      ...         \n",
       "Comparison of deep learning software     -0.035328      ...         \n",
       "\n",
       "                                      component_91  component_92  \\\n",
       "title                                                              \n",
       "Activity recognition                      0.019571     -0.012486   \n",
       "AlchemyAPI                                0.011816      0.016043   \n",
       "BigDL                                     0.000354      0.009501   \n",
       "Caffe (software)                          0.016038      0.009571   \n",
       "Comparison of deep learning software     -0.017045      0.006319   \n",
       "\n",
       "                                      component_93  component_94  \\\n",
       "title                                                              \n",
       "Activity recognition                     -0.003922      0.026974   \n",
       "AlchemyAPI                                0.010867     -0.008517   \n",
       "BigDL                                     0.046713     -0.035232   \n",
       "Caffe (software)                          0.043851     -0.018377   \n",
       "Comparison of deep learning software      0.003174     -0.003137   \n",
       "\n",
       "                                      component_95  component_96  \\\n",
       "title                                                              \n",
       "Activity recognition                      0.027402      0.014910   \n",
       "AlchemyAPI                                0.016883     -0.018888   \n",
       "BigDL                                    -0.042077      0.002097   \n",
       "Caffe (software)                         -0.024303     -0.001933   \n",
       "Comparison of deep learning software      0.000909      0.000975   \n",
       "\n",
       "                                      component_97  component_98  \\\n",
       "title                                                              \n",
       "Activity recognition                      0.005020      0.008259   \n",
       "AlchemyAPI                               -0.009693      0.006752   \n",
       "BigDL                                    -0.009872      0.012512   \n",
       "Caffe (software)                          0.012483      0.020335   \n",
       "Comparison of deep learning software      0.006420      0.006358   \n",
       "\n",
       "                                      component_99  component_100  \n",
       "title                                                              \n",
       "Activity recognition                      0.011405      -0.005507  \n",
       "AlchemyAPI                                0.023394       0.012028  \n",
       "BigDL                                    -0.034184      -0.021799  \n",
       "Caffe (software)                         -0.010086      -0.015337  \n",
       "Comparison of deep learning software     -0.004187       0.010001  \n",
       "\n",
       "[5 rows x 100 columns]"
      ]
     },
     "execution_count": 26,
     "metadata": {},
     "output_type": "execute_result"
    }
   ],
   "source": [
    "svd_matrix_df.head()"
   ]
  },
  {
   "cell_type": "code",
   "execution_count": 27,
   "metadata": {},
   "outputs": [],
   "source": [
    "svd_matrix_df.to_pickle('svd_matrix_df.pkl')"
   ]
  },
  {
   "cell_type": "code",
   "execution_count": 28,
   "metadata": {},
   "outputs": [],
   "source": [
    "def search_for_pages(search_term):\n",
    "    tmp_svd_df = svd_matrix_df.copy()\n",
    "    \n",
    "    clean_search = search_term.lower().replace(\"\\n\", \" \") # converts to lowercase and drops any \\n\n",
    "    clean_search = cleaner(clean_search) #cleans other special characters, whitespace, numbers, etc.\n",
    "    clean_search = [clean_search]\n",
    "    \n",
    "    tfdif_search = tfidf_vectorizer.transform(clean_search)\n",
    "    svd_search = SVD.transform(tfdif_search)\n",
    "    \n",
    "    cosine = cosine_similarity(tmp_svd_df, svd_search)\n",
    "    pearson = tmp_svd_df.apply(lambda x: np.corrcoef(x, svd_search)[0][1], axis = 1)\n",
    "    \n",
    "    tmp_svd_df['cosine_similarity'] = cosine\n",
    "    tmp_svd_df['pearson_similarity'] = pearson\n",
    "#     print(tmp_svd_df.shape)\n",
    "#     print(svd_search[0])\n",
    "\n",
    "    return tmp_svd_df[['cosine_similarity', 'pearson_similarity']]\n",
    "    "
   ]
  },
  {
   "cell_type": "code",
   "execution_count": 29,
   "metadata": {},
   "outputs": [],
   "source": [
    "search_string = \"\"\"\n",
    "learning algorithms heuristic implicit latent\n",
    "\"\"\""
   ]
  },
  {
   "cell_type": "code",
   "execution_count": 30,
   "metadata": {
    "scrolled": true
   },
   "outputs": [
    {
     "name": "stderr",
     "output_type": "stream",
     "text": [
      "/opt/conda/lib/python3.6/site-packages/numpy/lib/function_base.py:3167: RuntimeWarning: invalid value encountered in true_divide\n",
      "  c /= stddev[:, None]\n",
      "/opt/conda/lib/python3.6/site-packages/numpy/lib/function_base.py:3168: RuntimeWarning: invalid value encountered in true_divide\n",
      "  c /= stddev[None, :]\n"
     ]
    }
   ],
   "source": [
    "df = search_for_pages(search_string)"
   ]
  },
  {
   "cell_type": "code",
   "execution_count": 31,
   "metadata": {},
   "outputs": [
    {
     "data": {
      "text/html": [
       "<div>\n",
       "<table border=\"1\" class=\"dataframe\">\n",
       "  <thead>\n",
       "    <tr style=\"text-align: right;\">\n",
       "      <th></th>\n",
       "      <th>cosine_similarity</th>\n",
       "      <th>pearson_similarity</th>\n",
       "    </tr>\n",
       "    <tr>\n",
       "      <th>title</th>\n",
       "      <th></th>\n",
       "      <th></th>\n",
       "    </tr>\n",
       "  </thead>\n",
       "  <tbody>\n",
       "    <tr>\n",
       "      <th>Relief (feature selection)</th>\n",
       "      <td>0.962490</td>\n",
       "      <td>0.962898</td>\n",
       "    </tr>\n",
       "    <tr>\n",
       "      <th>Matrix regularization</th>\n",
       "      <td>0.958635</td>\n",
       "      <td>0.959410</td>\n",
       "    </tr>\n",
       "    <tr>\n",
       "      <th>Distribution learning theory</th>\n",
       "      <td>0.954589</td>\n",
       "      <td>0.954722</td>\n",
       "    </tr>\n",
       "    <tr>\n",
       "      <th>BrownBoost</th>\n",
       "      <td>0.953753</td>\n",
       "      <td>0.954082</td>\n",
       "    </tr>\n",
       "    <tr>\n",
       "      <th>Algorithmic learning theory</th>\n",
       "      <td>0.953635</td>\n",
       "      <td>0.953680</td>\n",
       "    </tr>\n",
       "  </tbody>\n",
       "</table>\n",
       "</div>"
      ],
      "text/plain": [
       "                              cosine_similarity  pearson_similarity\n",
       "title                                                              \n",
       "Relief (feature selection)             0.962490            0.962898\n",
       "Matrix regularization                  0.958635            0.959410\n",
       "Distribution learning theory           0.954589            0.954722\n",
       "BrownBoost                             0.953753            0.954082\n",
       "Algorithmic learning theory            0.953635            0.953680"
      ]
     },
     "execution_count": 31,
     "metadata": {},
     "output_type": "execute_result"
    }
   ],
   "source": [
    "df.sort_values('cosine_similarity', ascending=False).head()"
   ]
  },
  {
   "cell_type": "code",
   "execution_count": 32,
   "metadata": {},
   "outputs": [
    {
     "data": {
      "text/plain": [
       "['SVD.pkl']"
      ]
     },
     "execution_count": 32,
     "metadata": {},
     "output_type": "execute_result"
    }
   ],
   "source": [
    "joblib.dump(SVD, 'SVD.pkl') "
   ]
  },
  {
   "cell_type": "markdown",
   "metadata": {},
   "source": [
    "`min_df` parameter in `TfidfVectorizer` and `n_components` in `TruncatedSVD` were chosen to keep the saved models under 100 MB in size (so they can be pushed to git)"
   ]
  },
  {
   "cell_type": "code",
   "execution_count": null,
   "metadata": {},
   "outputs": [],
   "source": []
  }
 ],
 "metadata": {
  "kernelspec": {
   "display_name": "Python 3",
   "language": "python",
   "name": "python3"
  }
 },
 "nbformat": 4,
 "nbformat_minor": 2
}
