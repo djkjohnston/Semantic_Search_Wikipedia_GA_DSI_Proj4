{
 "cells": [
  {
   "cell_type": "code",
   "execution_count": 6,
   "metadata": {},
   "outputs": [],
   "source": [
    "from sklearn.externals import joblib\n",
    "import pandas as pd\n",
    "from sklearn.feature_extraction.text import TfidfVectorizer\n",
    "from sklearn.decomposition import TruncatedSVD\n",
    "from sklearn.metrics.pairwise import cosine_similarity\n",
    "import sys\n",
    "import spacy\n",
    "import re\n",
    "\n",
    "nlp = spacy.load('en')\n",
    "\n",
    "\n",
    "def cleaner(text):\n",
    "    mapping = [('&#39;', ''), \n",
    "               ('<br />', ''), \n",
    "               ('<.*>.*</.*>', ''), \n",
    "               ('\\\\ufeff', ''), \n",
    "               ('[\\d]', ''),  \n",
    "               ('\\[.*\\]', ''),  \n",
    "               ('[^a-z ]', '')]\n",
    "    for k, v in mapping:\n",
    "        text = re.sub(k, v, text)\n",
    "        \n",
    "    text = ' '.join(i.lemma_ for i in nlp(text))\n",
    "    text = ' '.join(text.split())\n",
    "    \n",
    "    return text"
   ]
  },
  {
   "cell_type": "code",
   "execution_count": 7,
   "metadata": {},
   "outputs": [],
   "source": [
    "# load fitted models and search matrix\n",
    "tfidf_vectorizer = joblib.load('tfidf_vectorizer.pkl') \n",
    "SVD = joblib.load('SVD.pkl') \n",
    "svd_matrix_df = pd.read_pickle('svd_matrix_df.pkl')"
   ]
  },
  {
   "cell_type": "code",
   "execution_count": 8,
   "metadata": {},
   "outputs": [],
   "source": [
    "# search function\n",
    "def search_for_pages(search_term):\n",
    "    tmp_svd_df = svd_matrix_df.copy()\n",
    "    \n",
    "    clean_search = search_term.lower().replace(\"\\n\", \" \") # converts to lowercase and drops any \\n\n",
    "    clean_search = cleaner(clean_search) #cleans other special characters, whitespace, numbers, etc.\n",
    "    clean_search = [clean_search]\n",
    "    \n",
    "    tfdif_search = tfidf_vectorizer.transform(clean_search)\n",
    "    svd_search = SVD.transform(tfdif_search)\n",
    "    \n",
    "    cosine = cosine_similarity(tmp_svd_df, svd_search)\n",
    "    # pearson = tmp_svd_df.apply(lambda x: np.corrcoef(x, svd_search)[0][1], axis = 1)\n",
    "    \n",
    "    tmp_svd_df['cosine_similarity'] = cosine\n",
    "    # tmp_svd_df['pearson_similarity'] = pearson\n",
    "#     print(tmp_svd_df.shape)\n",
    "#     print(svd_search[0])\n",
    "\n",
    "    return tmp_svd_df[['cosine_similarity']]"
   ]
  },
  {
   "cell_type": "code",
   "execution_count": 9,
   "metadata": {},
   "outputs": [],
   "source": [
    "search_term = \"enter your search term here!\""
   ]
  },
  {
   "cell_type": "code",
   "execution_count": 10,
   "metadata": {},
   "outputs": [
    {
     "name": "stdout",
     "output_type": "stream",
     "text": [
      "Top pages based on cosine cosine similarity\n",
      "                        cosine_similarity\n",
      "title                                    \n",
      "Multimodal search                0.968219\n",
      "Semantic search                  0.967753\n",
      "Selection-based search           0.967198\n",
      "Online search                    0.966995\n",
      "Miner.hu                         0.966758\n"
     ]
    }
   ],
   "source": [
    "search_df = search_for_pages(search_term)\n",
    "\n",
    "print(\"Top pages based on cosine cosine similarity\")\n",
    "print(search_df.sort_values('cosine_similarity', ascending=False).head())"
   ]
  },
  {
   "cell_type": "code",
   "execution_count": null,
   "metadata": {},
   "outputs": [],
   "source": []
  }
 ],
 "metadata": {
  "kernelspec": {
   "display_name": "Python 3",
   "language": "python",
   "name": "python3"
  },
  "language_info": {
   "codemirror_mode": {
    "name": "ipython",
    "version": 3
   },
   "file_extension": ".py",
   "mimetype": "text/x-python",
   "name": "python",
   "nbconvert_exporter": "python",
   "pygments_lexer": "ipython3",
   "version": "3.6.2"
  }
 },
 "nbformat": 4,
 "nbformat_minor": 2
}
