{
 "cells": [
  {
   "cell_type": "code",
   "execution_count": 33,
   "metadata": {
    "collapsed": true
   },
   "outputs": [],
   "source": [
    "import requests\n",
    "import pandas as pd\n",
    "import numpy as np\n",
    "from bs4 import BeautifulSoup"
   ]
  },
  {
   "cell_type": "code",
   "execution_count": 21,
   "metadata": {
    "collapsed": true
   },
   "outputs": [],
   "source": [
    "def get_page_contents(pageid):\n",
    "    query_params = {\n",
    "        \"action\": \"parse\",\n",
    "        \"format\": \"json\",\n",
    "        \"pageid\": int(pageid),\n",
    "        \"prop\": \"text|categories\"\n",
    "        \n",
    "    }\n",
    "\n",
    "    query = requests.get('http://en.wikipedia.org/w/api.php', query_params)\n",
    "\n",
    "    return query.json()"
   ]
  },
  {
   "cell_type": "code",
   "execution_count": 22,
   "metadata": {
    "collapsed": true
   },
   "outputs": [],
   "source": [
    "content = get_page_contents(15795950)"
   ]
  },
  {
   "cell_type": "code",
   "execution_count": 24,
   "metadata": {
    "collapsed": true
   },
   "outputs": [],
   "source": [
    "html = content['parse']['text']['*']\n",
    "soup = BeautifulSoup(html, 'html5lib')"
   ]
  },
  {
   "cell_type": "code",
   "execution_count": 25,
   "metadata": {},
   "outputs": [
    {
     "name": "stdout",
     "output_type": "stream",
     "text": [
      "Activity recognition aims to recognize the actions and goals of one or more agents from a series of observations on the agents' actions and the environmental conditions. Since the 1980s, this research field has captured the attention of several computer science communities due to its strength in providing personalized support for many different applications and its connection to many different fields of study such as medicine, human-computer interaction, or sociology.\n",
      "\n",
      "Due to its many-faceted nature, different fields may refer to activity recognition as plan recognition, goal recognition, intent recognition, behavior recognition, location estimation and location-based services.\n",
      "\n",
      "\n",
      "\n",
      "Contents\n",
      "\n",
      "\n",
      "1 Types of activity recognition\n",
      "\n",
      "1.1 Sensor-based, single-user activity recognition\n",
      "\n",
      "1.1.1 Levels of sensor-based activity recognition\n",
      "\n",
      "\n",
      "1.2 Sensor-based, multi-user activity recognition\n",
      "1.3 Sensor-based group activity recognition\n",
      "\n",
      "\n",
      "2 Approaches of activity recognition\n",
      "\n",
      "2.1 Activity recognition through logic and reasoning\n",
      "2.2 Activity recognition through probabilistic reasoning\n",
      "2.3 Data mining based approach to activity recognition\n",
      "\n",
      "\n",
      "3 Sensors used in activity recognition\n",
      "\n",
      "3.1 Vision-based activity recognition\n",
      "\n",
      "3.1.1 Levels of vision-based activity recognition\n",
      "3.1.2 Automatic gait recognition\n",
      "\n",
      "\n",
      "3.2 Wi-Fi-based activity recognition\n",
      "\n",
      "\n",
      "4 Applications of activity recognition\n",
      "5 Labs in the world\n",
      "6 Related conferences\n",
      "7 See also\n",
      "8 References\n",
      "\n",
      "\n",
      "\n",
      "Types of activity recognition[edit]\n",
      "Sensor-based, single-user activity recognition[edit]\n",
      "Sensor-based activity recognition integrates the emerging area of sensor networks with novel data mining and machine learning techniques to model a wide range of human activities.[1][2] Mobile devices (e.g. smart phones) provide sufficient sensor data and calculation power to enable physical activity recognition to provide an estimation of the energy consumption during everyday life. Sensor-based activity recognition researchers believe that by empowering ubiquitous computers and sensors to monitor the behavior of agents (under consent), these computers will be better suited to act on our behalf.\n",
      "Levels of sensor-based activity recognition[edit]\n",
      "Sensor-based activity recognition is a challenging task due to the inherent noisy nature of the input. Thus, statistical modeling has been the main thrust in this direction in layers, where the recognition at several intermediate levels is conducted and connected. At the lowest level where the sensor data are collected, statistical learning concerns how to find the detailed locations of agents from the received signal data. At an intermediate level, statistical inference may be concerned about how to recognize individuals' activities from the inferred location sequences and environmental conditions at the lower levels. Furthermore, at the highest level a major concern is to find out the overall goal or subgoals of an agent from the activity sequences through a mixture of logical and statistical reasoning. Scientific conferences where activity recognition work from wearable and environmental often appears are ISWC and UbiComp.\n",
      "Sensor-based, multi-user activity recognition[edit]\n",
      "Recognizing activities for multiple users using on-body sensors first appeared in the work by ORL using active badge systems[3] in the early 90's. Other sensor technology such as acceleration sensors were used for identifying group activity patterns during office scenarios.[4] Activities of Multiple Users in intelligent environments are addressed in Gu et al.[5] In this work, they investigate the fundamental problem of recognizing activities for multiple users from sensor readings in a home environment, and propose a novel pattern mining approach to recognize both single-user and multi-user activities in a unified solution.\n",
      "Sensor-based group activity recognition[edit]\n",
      "Recognition of group activities is fundamentally different from single, or multi-user activity recognition in that the goal is to recognize the behavior of the group as an entity, rather than the activities of the individual members within it.[6] Group behavior is emergent in nature, meaning that the properties of the behavior of the group are fundamentally different then the properties of the behavior of the individuals within it, or any sum of that behavior.[7] The main challenges are in modeling the behavior of the individual group members, as well as the roles of the individual within the group dynamic [8] and their relationship to emergent behavior of the group in parallel.[9] Challenges which must still be addressed include quantification of the behavior and roles of individuals who join the group, integration of explicit models for role description into inference algorithms, and scalability evaluations for very large groups and crowds. Group activity recognition has applications for crowd management and response in emergency situations, as well as for social networking and Quantified Self applications.[10]\n",
      "Approaches of activity recognition[edit]\n",
      "Activity recognition through logic and reasoning[edit]\n",
      "Logic-based approaches keep track of all logically consistent explanations of the observed actions. Thus, all possible and consistent plans or goals must be considered. Kautz[11] provided a formal theory of plan recognition. He described plan recognition as a logical inference process of circumscription. All actions, plans are uniformly referred to as goals, and a recognizer's knowledge is represented by a set of first-order statements called event hierarchy encoded in first-order logic, which defines abstraction, decomposition and functional relationships between types of events.\n",
      "Kautz's general framework for plan recognition has an exponential time complexity in worst case, measured in the size of input hierarchy. Lesh and Etzioni[12] went one step further and presented methods in scaling up goal recognition to scale up his work computationally. In contrast to Kautz's approach where the plan library is explicitly represented, Lesh and Etzioni's approach enables automatic plan-library construction from domain primitives. Furthermore, they introduced compact representations and efficient algorithms for goal recognition on large plan libraries.\n",
      "Inconsistent plans and goals are repeatedly pruned when new actions arrive. Besides, they also presented methods for adapting a goal recognizer to handle individual idiosyncratic behavior given a sample of an individual's recent behavior. Pollack et al. described a direct argumentation model that can know about the relative strength of several kinds of arguments for belief and intention description.\n",
      "A serious problem of logic-based approaches is their inability or inherent infeasibility to represent uncertainty. They offer no mechanism for preferring one consistent approach to another and incapable of deciding whether one particular plan is more likely than another, as long as both of them can be consistent enough to explain the actions observed. There is also a lack of learning ability associated with logic based methods.\n",
      "Another approach to logic-based activity recognition is to use stream reasoning based on Answer Set Programming,[13] and has been applied to recognising activities for health-related applications,[14] which uses weak constraints to model a degree of ambiguity/uncertainty.\n",
      "Activity recognition through probabilistic reasoning[edit]\n",
      "Probability theory and statistical learning models are more recently applied in activity recognition to reason about actions, plans and goals under uncertainty.[15] In the literature, there have been several approaches which explicitly represent uncertainty in reasoning about an agent's plans and goals.\n",
      "Using sensor data as input, Hodges and Pollack designed machine learning-based systems for identifying individuals as they perform routine daily activities such as making coffee.[16] Intel Research (Seattle) Lab and University of Washington at Seattle have done some important works on using sensors to detect human plans.[17][18][19][20] Some of these works infer user transportation modes from readings of radio-frequency identifiers (RFID) and global positioning systems (GPS).\n",
      "The use of temporal probabilistic models has been shown to perform well in activity recognition and generally outperform non-temporal models.[21] Generative models such as the Hidden Markov Model (HMM) and the more generally formulated Dynamic Bayesian Networks (DBN) are popular choices in modelling activities from sensor data.[22][23][24] Discriminative models such as Conditional Random Fields (CRF) are also commonly applied and also give good performance in activity recognition.[25][26]\n",
      "Generative and discriminative models both have their pros and cons and the ideal choice depends on their area of application. A dataset together with implementations of a number of popular models (HMM, CRF) for activity recognition can be found here.\n",
      "Conventional temporal probabilistic models such as the hidden Markov model (HMM) and conditional random fields (CRF) model directly model the correlations between the activities and the observed sensor data. In recent years, increasing evidence has supported the use of hierarchical models which take into account the rich hierarchical structure that exists in human behavioral data.[22][27][28] The core idea here is that the model does not directly correlate the activities with the sensor data, but instead breaks the activity into sub-activities (sometimes referred to as actions) and models the underlying correlations accordingly. An example could be the activity of preparing spaghetti, which can be broken down into the subactivities or actions of cutting vegetables, frying the vegetables in a pan and serving it on a plate. Examples of such a hierarchical model are Layered Hidden Markov Models (LHMMs)[27] and the hierarchical hidden Markov model (HHMM), which have been shown to significantly outperform its non-hierarchical counterpart in activity recognition.[22]\n",
      "Data mining based approach to activity recognition[edit]\n",
      "Different from traditional machine learning approaches, an approach based on data mining has been recently proposed. In the work of Gu et al.,[29] the problem of activity recognition is formulated as a pattern-based classification problem. They proposed a data mining approach based on discriminative patterns which describe significant changes between any two activity classes of data to recognize sequential, interleaved and concurrent activities in a unified solution. Gilbert et al.[30] use 2D corners in both space and time. These are grouped spatially and temporally using a hierarchical process, with an increasing search area. At each stage of the hierarchy, the most distinctive and descriptive features are learned efficiently through data mining (Apriori rule).\n",
      "Sensors used in activity recognition[edit]\n",
      "Vision-based activity recognition[edit]\n",
      "It is a very important and challenging problem to track and understand the behavior of agents through videos taken by various cameras. The primary technique employed is computer vision. Vision-based activity recognition has found many applications such as human-computer interaction, user interface design, robot learning, and surveillance, among others. Scientific conferences where vision based activity recognition work often appears are ICCV and CVPR.\n",
      "In vision-based activity recognition, a great deal of work has been done. Researchers have attempted a number of methods such as optical flow, Kalman filtering, Hidden Markov models, etc., under different modalities such as single camera, stereo, and infrared. In addition, researchers have considered multiple aspects on this topic, including single pedestrian tracking, group tracking, and detecting dropped objects.\n",
      "Recently some researchers have used RGBD cameras like Microsoft Kinect to detect human activities. Depth cameras add extra dimension i.e. depth which normal 2d camera fails to provide. Sensory information from these depth cameras have been used to generate real-time skeleton model of humans with different body positions. These skeleton information provides meaningful information that researchers have used to model human activities which are trained and later used to recognize unknown activities.[31]\n",
      "Levels of vision-based activity recognition[edit]\n",
      "In vision-based activity recognition, the computational process is often divided into four steps, namely human detection, human tracking, human activity recognition and then a high-level activity evaluation.\n",
      "Automatic gait recognition[edit]\n",
      "Main article: Gait recognition\n",
      "One way to identify specific people is by how they walk. Gait-recognition software can be used to record a person's gait or gait feature profile in a database for the purpose of recognizing that person later,[32] even if they are wearing a disguise.\n",
      "Wi-Fi-based activity recognition[edit]\n",
      "When activity recognition is performed indoors and in cities using the widely available Wi-Fi signals and 802.11 access points, there is much noise and uncertainty. These uncertainties are modeled using a dynamic Bayesian network model by Yin et al.[33] A multiple goal model that can reason about user's interleaving goals is presented by Chai and Yang,[34] where a deterministic state transition model is applied. A better model that models the concurrent and interleaving activities in a probabilistic approach is proposed by Hu and Yang.[35] A user action discovery model is presented by Yin et al.,[36] where the Wi-Fi signals are segmented to produce possible actions.\n",
      "A fundamental problem in Wi-Fi-based activity recognition is to estimate the user locations. Two important issues are how to reduce the human labelling effort and how to cope with the changing signal profiles when the environment changes. Yin et al.[37] dealt with the second issue by transferring the labelled knowledge between time periods. Chai and Yang[38] proposed a hidden Markov model-based method to extend labelled knowledge by leveraging the unlabelled user traces. J. Pan et al.[39] propose to perform location estimation through online co-localization, and S. Pan et al.[40] proposed to apply multi-view learning for migrating the labelled data to a new time period.\n",
      "Applications of activity recognition[edit]\n",
      "Many different applications have been studied by researchers in activity recognition; examples include assisting the sick and disabled. For example, Pollack et al.[41] show that by automatically monitoring human activities, home-based rehabilitation can be provided for people suffering from traumatic brain injuries. One can find applications ranging from security-related applications and logistics support to location-based services.\n",
      "Labs in the world[edit]\n",
      "\n",
      "Wireless Sensor Data Mining Lab at Fordham University\n",
      "Martha Pollack's research group\n",
      "Prof Qiang Yang's research group\n",
      "RSE Lab @ University of Washington, leading by Dieter Fox\n",
      "Fraunhofer IGD Lab for Ambient Intelligence\n",
      "Tao Gu's Advanced Network System Lab at University of Southern Denmark\n",
      "Jeffrey Junfeng Pan's Sensor-based Localization and Tracking Project\n",
      "Prof. Helal's mobile and pervasive computing lab at University of Florida\n",
      "Ajou University CUSLAB Vision-based Activity Awareness\n",
      "Tanzeem Choudhury's People-Aware Computing (PAC) Group\n",
      "Computer Vision and Multimodal Computing Group at MPI INF\n",
      "Wearable Computing Lab at ETH Zurich\n",
      "The BehaviorScope Project at ENALAB - Yale\n",
      "The Embedded Sensing Systems group at TU Darmstadt\n",
      "The Embedded Systems group at the University of Freiburg\n",
      "WSU CASAS Smart Home Project\n",
      "Embedded & Pervasive Systems Lab / EPSL at Washington State University, USA\n",
      "DLR Institute for Communications and Navigation Activity Recognition Project\n",
      "Activity Analysis Research Group of Leeds University, UK\n",
      "Laboratoire d'Intelligence Ambiante pour la Reconnaissance de l’Activité (LIARA), Canada\n",
      "Pervasive Computing Systems / TecO Lab at Karlsruhe Institute of Technology, Germany\n",
      "Department of Intelligent System at Jožef Stefan Institute\n",
      "SmartLab of Mobile Multimedia Information Systems Group at University of Rostock, Germany\n",
      "Imagine Research group at LIRIS laboratory, Lyon, France\n",
      "Digital Interaction Group at Culture Lab, Newcastle University, UK\n",
      "Bio-imaging Lab at Kyung Hee University, Republic of Korea\n",
      "\n",
      "Related conferences[edit]\n",
      "\n",
      "AAAI\n",
      "CVPR\n",
      "ICCV\n",
      "IJCAI\n",
      "NIPS\n",
      "PERVASIVE\n",
      "Ubicomp\n",
      "PerCom\n",
      "ISWC\n",
      "ICAPS\n",
      "AmI\n",
      "IE\n",
      "\n",
      "See also[edit]\n",
      "\n",
      "online lectures on activity recognition\n",
      "\n",
      "\n",
      "Introduction to Activity Recognition lecture at ESS, Darmstadt\n",
      "\n",
      "\n",
      "related articles\n",
      "\n",
      "\n",
      "AI effect\n",
      "Applications of artificial intelligence\n",
      "Conditional random field\n",
      "Hidden Markov model\n",
      "Naive Bayes classifier\n",
      "Planning\n",
      "Support vector machines\n",
      "\n",
      "\n",
      "Lists\n",
      "\n",
      "\n",
      "List of emerging technologies\n",
      "Outline of artificial intelligence\n",
      "\n",
      "References[edit]\n",
      "\n",
      "\n",
      "\n",
      "^ Tanzeem Choudhury, Gaetano Borriello, et al. The Mobile Sensing Platform: An Embedded System for Activity Recognition. Appears in the IEEE Pervasive Magazine - Special Issue on Activity-Based Computing, April 2008.\n",
      "^ Nishkam Ravi, Nikhil Dandekar, Preetham Mysore, Michael Littman. Activity Recognition from Accelerometer Data. Proceedings of the Seventeenth Conference on Innovative Applications of Artificial Intelligence (IAAI/AAAI 2005).\n",
      "^ Want R., Hopper A., Falcao V., Gibbons J.: The Active Badge Location System, ACM Transactions on Information, Systems, Vol. 40, No. 1, pp. 91-102, January 1992\n",
      "^ Bieber G., Kirste T., Untersuchung des gruppendynamischen Aktivitaetsverhaltes im Office-Umfeld, 7. Berliner Werkstatt Mensch-Maschine-Systeme, Berlin, Germany, 2007\n",
      "^ Tao Gu, Zhanqing Wu, Liang Wang, Xianping Tao, and Jian Lu. Mining Emerging Patterns for Recognizing Activities of Multiple Users in Pervasive Computing. In Proc. of the 6th International Conference on Mobile and Ubiquitous Systems: Computing, Networking and Services (MobiQuitous '09), Toronto, Canada, July 13–16, 2009.\n",
      "^ Dawud Gordon, Jan-Hendrik Hanne, Martin Berchtold, Ali Asghar Nazari Shirehjini, Michael Beigl: Towards Collaborative Group Activity Recognition Using Mobile Devices, Mobile Networks and Applications 18(3), 2013, p. 326-340\n",
      "^ Lewin, K. Field theory in social science: selected theoretical papers. Social science paperbacks. Harper, New York, 1951.\n",
      "^ Hirano, T., and Maekawa, T. A hybrid unsupervised/supervised model for group activity recognition. In Proceedings of the 2013 International Symposium on Wearable Computers, ISWC ’13, ACM (New York, NY, USA, 2013), 21–24\n",
      "^ Brdiczka, O., Maisonnasse, J., Reignier, P., and Crowley, J. L. Detecting small group activities from multimodal observations. Applied Intelligence 30, 1 (July 2007), 47–57.\n",
      "^ Dawud Gordon, Group Activity Recognition Using Wearable Sensing Devices, Dissertation, Karlsruhe Institute of Technology, 2014\n",
      "^ H. Kautz. \"A formal theory of plan recognition\". In PhD thesis, University of Rochester, 1987.\n",
      "^ N. Lesh and O. Etzioni. \"A sound and fast goal recognizer\". In Proceedings of the International Joint Conference on Artificial Intelligence, 1995.\n",
      "^ Do, Thang; Seng W. Loke; Fei Liu (2011). \"Answer Set Programming for Stream Reasoning\". Advances in Artificial Intelligence, Lecture Notes in Computer Science. 6657: 104–109. \n",
      "^ Do, Thang; Seng W. Loke; Fei Liu (2012). \"HealthyLife: an Activity Recognition System with Smartphone using Logic-Based Stream Reasoning\" (PDF). Proceedings of the 9th International Conference on Mobile and Ubiquitous Systems: Computing, Networking and Services, (Mobiquitous 2012). \n",
      "^ E. Charniak and R.P. Goldman. \"A Bayesian model of plan recognition\". Artificial Intelligence, 64:53–79, 1993.\n",
      "^ M.R. Hodges and M.E. Pollack. \"An 'object-use fingerprint': The use of electronic sensors for human identification\". In Proceedings of the 9th International Conference on Ubiquitous Computing, 2007.\n",
      "^ Mike Perkowitz, Matthai Philipose, Donald J. Patterson, and Kenneth P. Fishkin. \"Mining models of human activities from the web\". In Proceedings of the Thirteenth International World Wide Web Conference (WWW 2004), pages 573–582, May 2004.\n",
      "^ Matthai Philipose, Kenneth P. Fishkin, Mike Perkowitz, Donald J. Patterson, Dieter Fox, Henry Kautz, and Dirk Hähnel. \"Inferring activities from interactions with objects\". In IEEE Pervasive Computing, pages 50–57, October 2004.\n",
      "^ Dieter Fox Lin Liao, Donald J. Patterson and Henry A. Kautz. \"Learning and inferring transportation routines\". Artif. Intell., 171(5-6):311–331, 2007.\n",
      "^ Piyathilaka, L.; Kodagoda, S., \"Gaussian mixture based HMM for human daily activity recognition using 3D skeleton features,\" Industrial Electronics and Applications (ICIEA), 2013 8th IEEE Conference on, vol., no., pp.567,572, 19–21 June 2013\n",
      "^ TLM van Kasteren, Gwenn Englebienne, BJA Kröse. \"Human activity recognition from wireless sensor network data: Benchmark and software.\" Activity Recognition in Pervasive Intelligent Environments, 165-186, Atlantis Press\n",
      "^ a b c TLM van Kasteren, Gwenn Englebienne, Ben Kröse\" Hierarchical Activity Recognition Using Automatically Clustered Actions\", 2011, Ambient Intelligence, 82-91, Springer Berlin/Heidelberg\n",
      "^ Daniel Wilson and Chris Atkeson. Simultaneous tracking and activityrecognition (star) using many anonymous binary sensors. In Proceedings of the 3rd international conference on Pervasive Computing, Pervasive, pages 62–79, Munich, Germany, 2005.\n",
      "^ Nuria Oliver, Barbara Rosario and Alex Pentland \"A Bayesian Computer Vision System for Modeling Human Interactions\" Appears in PAMI Special Issue on Visual Surveillance and Monitoring, Aug 00\n",
      "^ TLM Van Kasteren, Athanasios Noulas, Gwenn Englebienne, Ben Kröse, \"Accurate activity recognition in a home setting\", 2008/9/21, Proceedings of the 10th international conference on Ubiquitous computing, 1-9, ACM\n",
      "^ Derek Hao Hu, Sinno Jialin Pan, Vincent Wenchen Zheng, Nathan NanLiu, and Qiang Yang. Real world activity recognition with multiple goals.In Proceedings of the 10th international conference on Ubiquitous computing, Ubicomp, pages 30–39, New York, NY, USA, 2008. ACM.\n",
      "^ a b Nuria Oliver, Ashutosh Garg, and Eric Horvitz. Layered representations for learning and inferring office activity from multiple sensory channels. Comput. Vis. Image Underst., 96(2):163–180, 2004.\n",
      "^ Amarnag Subramanya, Alvin Raj, Jeff Bilmes, and Dieter Fox. Hierarchical models for activity recognition. In Proceedings of the international conference on Multimedia Signal Processing, MMSP, Victoria, CA, October 2006.\n",
      "^ Tao Gu, Zhanqing Wu, Xianping Tao, Hung Keng Pung, and Jian Lu. epSICAR: An Emerging Patterns based Approach to Sequential, Interleaved and Concurrent Activity Recognition. In Proc. of the 7th Annual IEEE International Conference on Pervasive Computing and Communications (Percom '09), Galveston, Texas, March 9–13, 2009.\n",
      "^ Gilbert A, Illingworth J, Bowden R. Action Recognition using Mined Hierarchical Compound Features. IEEE Trans Pattern Analysis and Machine Learning\n",
      "^ Piyathilaka, L.; Kodagoda, S., \"Gaussian mixture based HMM for human daily activity recognition using 3D skeleton features,\" Industrial Electronics and Applications (ICIEA), 2013 8th IEEE Conference on, vol., no., pp.567,572, 19–21 June 2013 URL: http://ieeexplore.ieee.org/stamp/stamp.jsp?tp=&arnumber=6566433&isnumber=6566328\n",
      "^ R. Damaševičius, M. Vasiljevas, J. Šalkevičius, and M. Woźniak, Human Activity Recognition in AAL Environments Using Random Projections, Computational and Mathematical Methods in Medicine, vol. 2016, Article ID 4073584, 17 pages, 2016. doi:10.1155/2016/4073584\n",
      "^ Jie Yin, Xiaoyong Chai and Qiang Yang, \"High-level Goal Recognition in a Wireless LAN\". In Proceedings of the Nineteenth National Conference on Artificial Intelligence (AAAI-04), San Jose, CA USA, July 2004. Pages 578-584\n",
      "^ Xiaoyong Chai and Qiang Yang, \"Multiple-Goal Recognition From Low-level Signals\". Proceedings of the Twentieth National Conference on Artificial Intelligence (AAAI 2005), Pittsburg, PA USA, July 2005. Pages 3-8.\n",
      "^ Derek Hao Hu, Qiang Yang. \"CIGAR: Concurrent and Interleaving Goal and Activity Recognition\", to appear in AAAI 2008\n",
      "^ Jie Yin, Dou Shen, Qiang Yang and Ze-nian Li \"Activity Recognition through Goal-Based Segmentation\". Proceedings of the Twentieth National Conference on Artificial Intelligence (AAAI 2005), Pittsburg, PA USA, July 2005. Pages 28-33.\n",
      "^ Jie Yin, Qiang Yang and Lionel Ni. \"Adaptive Temporal Radio Maps for Indoor Location Estimation\". In Proceedings of the 3rd Annual IEEE International Conference on Pervasive Computing and Communications (IEEE PerCom 2005), Kauai Island, Hawaii, March, 2005. Pages 85-94.\n",
      "^ Xiaoyong Chai and Qiang Yang. \"Reducing the Calibration Effort for Location Estimation Using Unlabeled Samples\". In Proceedings of the 3rd Annual IEEE International Conference on Pervasive Computing and Communications, (IEEE PerCom 2005) Kauai Island, Hawaii, March 2005. Pages 95--104.\n",
      "^ Jeffrey Junfeng Pan, Qiang Yang and Sinno Jialin Pan. \"Online Co-Localization in Indoor Wireless Networks\". In Proceedings of the 22nd AAAI Conference on Artificial Intelligence (AAAI'07) Vancouver, British Columbia, Canada. July 2007. 1102-1107\n",
      "^ Sinno Jialin Pan, James T. Kwok, Qiang Yang, Jeffrey Junfeng Pan. \"Adaptive localization in a dynamic WiFi environment through multi-view learning\". In Proceedings of the 22nd AAAI Conference on Artificial Intelligence (AAAI'07) Vancouver, British Columbia, Canada. July 2007. 1108-1113\n",
      "^ Pollack, M.E., and et al., L. E. B. 2003. \"Autominder: an intelligent cognitive orthotic system for people with memory impairment\". Robotics and Autonomous Systems 44(3-4):273–282.\n",
      "\n",
      "\n",
      "\n",
      "\n",
      "\n",
      "\n",
      "\n",
      "\n",
      "\n",
      "\n"
     ]
    }
   ],
   "source": [
    "print(soup.text)"
   ]
  },
  {
   "cell_type": "code",
   "execution_count": 26,
   "metadata": {
    "collapsed": true
   },
   "outputs": [],
   "source": [
    "content['parse']['text'] = soup.text"
   ]
  },
  {
   "cell_type": "code",
   "execution_count": 27,
   "metadata": {},
   "outputs": [
    {
     "data": {
      "text/plain": [
       "{'parse': {'categories': [{'*': 'Cognition',\n",
       "    'sortkey': 'Activity Recognition'},\n",
       "   {'*': 'Artificial_intelligence_applications',\n",
       "    'sortkey': 'Activity Recognition'},\n",
       "   {'*': 'Applied_machine_learning', 'sortkey': 'Activity Recognition'}],\n",
       "  'pageid': 15795950,\n",
       "  'text': 'Activity recognition aims to recognize the actions and goals of one or more agents from a series of observations on the agents\\' actions and the environmental conditions. Since the 1980s, this research field has captured the attention of several computer science communities due to its strength in providing personalized support for many different applications and its connection to many different fields of study such as medicine, human-computer interaction, or sociology.\\n\\nDue to its many-faceted nature, different fields may refer to activity recognition as plan recognition, goal recognition, intent recognition, behavior recognition, location estimation and location-based services.\\n\\n\\n\\nContents\\n\\n\\n1 Types of activity recognition\\n\\n1.1 Sensor-based, single-user activity recognition\\n\\n1.1.1 Levels of sensor-based activity recognition\\n\\n\\n1.2 Sensor-based, multi-user activity recognition\\n1.3 Sensor-based group activity recognition\\n\\n\\n2 Approaches of activity recognition\\n\\n2.1 Activity recognition through logic and reasoning\\n2.2 Activity recognition through probabilistic reasoning\\n2.3 Data mining based approach to activity recognition\\n\\n\\n3 Sensors used in activity recognition\\n\\n3.1 Vision-based activity recognition\\n\\n3.1.1 Levels of vision-based activity recognition\\n3.1.2 Automatic gait recognition\\n\\n\\n3.2 Wi-Fi-based activity recognition\\n\\n\\n4 Applications of activity recognition\\n5 Labs in the world\\n6 Related conferences\\n7 See also\\n8 References\\n\\n\\n\\nTypes of activity recognition[edit]\\nSensor-based, single-user activity recognition[edit]\\nSensor-based activity recognition integrates the emerging area of sensor networks with novel data mining and machine learning techniques to model a wide range of human activities.[1][2] Mobile devices (e.g. smart phones) provide sufficient sensor data and calculation power to enable physical activity recognition to provide an estimation of the energy consumption during everyday life. Sensor-based activity recognition researchers believe that by empowering ubiquitous computers and sensors to monitor the behavior of agents (under consent), these computers will be better suited to act on our behalf.\\nLevels of sensor-based activity recognition[edit]\\nSensor-based activity recognition is a challenging task due to the inherent noisy nature of the input. Thus, statistical modeling has been the main thrust in this direction in layers, where the recognition at several intermediate levels is conducted and connected. At the lowest level where the sensor data are collected, statistical learning concerns how to find the detailed locations of agents from the received signal data. At an intermediate level, statistical inference may be concerned about how to recognize individuals\\' activities from the inferred location sequences and environmental conditions at the lower levels. Furthermore, at the highest level a major concern is to find out the overall goal or subgoals of an agent from the activity sequences through a mixture of logical and statistical reasoning. Scientific conferences where activity recognition work from wearable and environmental often appears are ISWC and UbiComp.\\nSensor-based, multi-user activity recognition[edit]\\nRecognizing activities for multiple users using on-body sensors first appeared in the work by ORL using active badge systems[3] in the early 90\\'s. Other sensor technology such as acceleration sensors were used for identifying group activity patterns during office scenarios.[4] Activities of Multiple Users in intelligent environments are addressed in Gu et al.[5] In this work, they investigate the fundamental problem of recognizing activities for multiple users from sensor readings in a home environment, and propose a novel pattern mining approach to recognize both single-user and multi-user activities in a unified solution.\\nSensor-based group activity recognition[edit]\\nRecognition of group activities is fundamentally different from single, or multi-user activity recognition in that the goal is to recognize the behavior of the group as an entity, rather than the activities of the individual members within it.[6] Group behavior is emergent in nature, meaning that the properties of the behavior of the group are fundamentally different then the properties of the behavior of the individuals within it, or any sum of that behavior.[7] The main challenges are in modeling the behavior of the individual group members, as well as the roles of the individual within the group dynamic [8] and their relationship to emergent behavior of the group in parallel.[9] Challenges which must still be addressed include quantification of the behavior and roles of individuals who join the group, integration of explicit models for role description into inference algorithms, and scalability evaluations for very large groups and crowds. Group activity recognition has applications for crowd management and response in emergency situations, as well as for social networking and Quantified Self applications.[10]\\nApproaches of activity recognition[edit]\\nActivity recognition through logic and reasoning[edit]\\nLogic-based approaches keep track of all logically consistent explanations of the observed actions. Thus, all possible and consistent plans or goals must be considered. Kautz[11] provided a formal theory of plan recognition. He described plan recognition as a logical inference process of circumscription. All actions, plans are uniformly referred to as goals, and a recognizer\\'s knowledge is represented by a set of first-order statements called event hierarchy encoded in first-order logic, which defines abstraction, decomposition and functional relationships between types of events.\\nKautz\\'s general framework for plan recognition has an exponential time complexity in worst case, measured in the size of input hierarchy. Lesh and Etzioni[12] went one step further and presented methods in scaling up goal recognition to scale up his work computationally. In contrast to Kautz\\'s approach where the plan library is explicitly represented, Lesh and Etzioni\\'s approach enables automatic plan-library construction from domain primitives. Furthermore, they introduced compact representations and efficient algorithms for goal recognition on large plan libraries.\\nInconsistent plans and goals are repeatedly pruned when new actions arrive. Besides, they also presented methods for adapting a goal recognizer to handle individual idiosyncratic behavior given a sample of an individual\\'s recent behavior. Pollack et al. described a direct argumentation model that can know about the relative strength of several kinds of arguments for belief and intention description.\\nA serious problem of logic-based approaches is their inability or inherent infeasibility to represent uncertainty. They offer no mechanism for preferring one consistent approach to another and incapable of deciding whether one particular plan is more likely than another, as long as both of them can be consistent enough to explain the actions observed. There is also a lack of learning ability associated with logic based methods.\\nAnother approach to logic-based activity recognition is to use stream reasoning based on Answer Set Programming,[13] and has been applied to recognising activities for health-related applications,[14] which uses weak constraints to model a degree of ambiguity/uncertainty.\\nActivity recognition through probabilistic reasoning[edit]\\nProbability theory and statistical learning models are more recently applied in activity recognition to reason about actions, plans and goals under uncertainty.[15] In the literature, there have been several approaches which explicitly represent uncertainty in reasoning about an agent\\'s plans and goals.\\nUsing sensor data as input, Hodges and Pollack designed machine learning-based systems for identifying individuals as they perform routine daily activities such as making coffee.[16] Intel Research (Seattle) Lab and University of Washington at Seattle have done some important works on using sensors to detect human plans.[17][18][19][20] Some of these works infer user transportation modes from readings of radio-frequency identifiers (RFID) and global positioning systems (GPS).\\nThe use of temporal probabilistic models has been shown to perform well in activity recognition and generally outperform non-temporal models.[21] Generative models such as the Hidden Markov Model (HMM) and the more generally formulated Dynamic Bayesian Networks (DBN) are popular choices in modelling activities from sensor data.[22][23][24] Discriminative models such as Conditional Random Fields (CRF) are also commonly applied and also give good performance in activity recognition.[25][26]\\nGenerative and discriminative models both have their pros and cons and the ideal choice depends on their area of application. A dataset together with implementations of a number of popular models (HMM, CRF) for activity recognition can be found here.\\nConventional temporal probabilistic models such as the hidden Markov model (HMM) and conditional random fields (CRF) model directly model the correlations between the activities and the observed sensor data. In recent years, increasing evidence has supported the use of hierarchical models which take into account the rich hierarchical structure that exists in human behavioral data.[22][27][28] The core idea here is that the model does not directly correlate the activities with the sensor data, but instead breaks the activity into sub-activities (sometimes referred to as actions) and models the underlying correlations accordingly. An example could be the activity of preparing spaghetti, which can be broken down into the subactivities or actions of cutting vegetables, frying the vegetables in a pan and serving it on a plate. Examples of such a hierarchical model are Layered Hidden Markov Models (LHMMs)[27] and the hierarchical hidden Markov model (HHMM), which have been shown to significantly outperform its non-hierarchical counterpart in activity recognition.[22]\\nData mining based approach to activity recognition[edit]\\nDifferent from traditional machine learning approaches, an approach based on data mining has been recently proposed. In the work of Gu et al.,[29] the problem of activity recognition is formulated as a pattern-based classification problem. They proposed a data mining approach based on discriminative patterns which describe significant changes between any two activity classes of data to recognize sequential, interleaved and concurrent activities in a unified solution. Gilbert et al.[30] use 2D corners in both space and time. These are grouped spatially and temporally using a hierarchical process, with an increasing search area. At each stage of the hierarchy, the most distinctive and descriptive features are learned efficiently through data mining (Apriori rule).\\nSensors used in activity recognition[edit]\\nVision-based activity recognition[edit]\\nIt is a very important and challenging problem to track and understand the behavior of agents through videos taken by various cameras. The primary technique employed is computer vision. Vision-based activity recognition has found many applications such as human-computer interaction, user interface design, robot learning, and surveillance, among others. Scientific conferences where vision based activity recognition work often appears are ICCV and CVPR.\\nIn vision-based activity recognition, a great deal of work has been done. Researchers have attempted a number of methods such as optical flow, Kalman filtering, Hidden Markov models, etc., under different modalities such as single camera, stereo, and infrared. In addition, researchers have considered multiple aspects on this topic, including single pedestrian tracking, group tracking, and detecting dropped objects.\\nRecently some researchers have used RGBD cameras like Microsoft Kinect to detect human activities. Depth cameras add extra dimension i.e. depth which normal 2d camera fails to provide. Sensory information from these depth cameras have been used to generate real-time skeleton model of humans with different body positions. These skeleton information provides meaningful information that researchers have used to model human activities which are trained and later used to recognize unknown activities.[31]\\nLevels of vision-based activity recognition[edit]\\nIn vision-based activity recognition, the computational process is often divided into four steps, namely human detection, human tracking, human activity recognition and then a high-level activity evaluation.\\nAutomatic gait recognition[edit]\\nMain article: Gait recognition\\nOne way to identify specific people is by how they walk. Gait-recognition software can be used to record a person\\'s gait or gait feature profile in a database for the purpose of recognizing that person later,[32] even if they are wearing a disguise.\\nWi-Fi-based activity recognition[edit]\\nWhen activity recognition is performed indoors and in cities using the widely available Wi-Fi signals and 802.11 access points, there is much noise and uncertainty. These uncertainties are modeled using a dynamic Bayesian network model by Yin et al.[33] A multiple goal model that can reason about user\\'s interleaving goals is presented by Chai and Yang,[34] where a deterministic state transition model is applied. A better model that models the concurrent and interleaving activities in a probabilistic approach is proposed by Hu and Yang.[35] A user action discovery model is presented by Yin et al.,[36] where the Wi-Fi signals are segmented to produce possible actions.\\nA fundamental problem in Wi-Fi-based activity recognition is to estimate the user locations. Two important issues are how to reduce the human labelling effort and how to cope with the changing signal profiles when the environment changes. Yin et al.[37] dealt with the second issue by transferring the labelled knowledge between time periods. Chai and Yang[38] proposed a hidden Markov model-based method to extend labelled knowledge by leveraging the unlabelled user traces. J. Pan et al.[39] propose to perform location estimation through online co-localization, and S. Pan et al.[40] proposed to apply multi-view learning for migrating the labelled data to a new time period.\\nApplications of activity recognition[edit]\\nMany different applications have been studied by researchers in activity recognition; examples include assisting the sick and disabled. For example, Pollack et al.[41] show that by automatically monitoring human activities, home-based rehabilitation can be provided for people suffering from traumatic brain injuries. One can find applications ranging from security-related applications and logistics support to location-based services.\\nLabs in the world[edit]\\n\\nWireless Sensor Data Mining Lab at Fordham University\\nMartha Pollack\\'s research group\\nProf Qiang Yang\\'s research group\\nRSE Lab @ University of Washington, leading by Dieter Fox\\nFraunhofer IGD Lab for Ambient Intelligence\\nTao Gu\\'s Advanced Network System Lab at University of Southern Denmark\\nJeffrey Junfeng Pan\\'s Sensor-based Localization and Tracking Project\\nProf. Helal\\'s mobile and pervasive computing lab at University of Florida\\nAjou University CUSLAB Vision-based Activity Awareness\\nTanzeem Choudhury\\'s People-Aware Computing (PAC) Group\\nComputer Vision and Multimodal Computing Group at MPI INF\\nWearable Computing Lab at ETH Zurich\\nThe BehaviorScope Project at ENALAB - Yale\\nThe Embedded Sensing Systems group at TU Darmstadt\\nThe Embedded Systems group at the University of Freiburg\\nWSU CASAS Smart Home Project\\nEmbedded & Pervasive Systems Lab / EPSL at Washington State University, USA\\nDLR Institute for Communications and Navigation Activity Recognition Project\\nActivity Analysis Research Group of Leeds University, UK\\nLaboratoire d\\'Intelligence Ambiante pour la Reconnaissance de l’Activité (LIARA), Canada\\nPervasive Computing Systems / TecO Lab at Karlsruhe Institute of Technology, Germany\\nDepartment of Intelligent System at Jožef Stefan Institute\\nSmartLab of Mobile Multimedia Information Systems Group at University of Rostock, Germany\\nImagine Research group at LIRIS laboratory, Lyon, France\\nDigital Interaction Group at Culture Lab, Newcastle University, UK\\nBio-imaging Lab at Kyung Hee University, Republic of Korea\\n\\nRelated conferences[edit]\\n\\nAAAI\\nCVPR\\nICCV\\nIJCAI\\nNIPS\\nPERVASIVE\\nUbicomp\\nPerCom\\nISWC\\nICAPS\\nAmI\\nIE\\n\\nSee also[edit]\\n\\nonline lectures on activity recognition\\n\\n\\nIntroduction to Activity Recognition lecture at ESS, Darmstadt\\n\\n\\nrelated articles\\n\\n\\nAI effect\\nApplications of artificial intelligence\\nConditional random field\\nHidden Markov model\\nNaive Bayes classifier\\nPlanning\\nSupport vector machines\\n\\n\\nLists\\n\\n\\nList of emerging technologies\\nOutline of artificial intelligence\\n\\nReferences[edit]\\n\\n\\n\\n^ Tanzeem Choudhury, Gaetano Borriello, et al. The Mobile Sensing Platform: An Embedded System for Activity Recognition. Appears in the IEEE Pervasive Magazine - Special Issue on Activity-Based Computing, April 2008.\\n^ Nishkam Ravi, Nikhil Dandekar, Preetham Mysore, Michael Littman. Activity Recognition from Accelerometer Data. Proceedings of the Seventeenth Conference on Innovative Applications of Artificial Intelligence (IAAI/AAAI 2005).\\n^ Want R., Hopper A., Falcao V., Gibbons J.: The Active Badge Location System, ACM Transactions on Information, Systems, Vol. 40, No. 1, pp. 91-102, January 1992\\n^ Bieber G., Kirste T., Untersuchung des gruppendynamischen Aktivitaetsverhaltes im Office-Umfeld, 7. Berliner Werkstatt Mensch-Maschine-Systeme, Berlin, Germany, 2007\\n^ Tao Gu, Zhanqing Wu, Liang Wang, Xianping Tao, and Jian Lu. Mining Emerging Patterns for Recognizing Activities of Multiple Users in Pervasive Computing. In Proc. of the 6th International Conference on Mobile and Ubiquitous Systems: Computing, Networking and Services (MobiQuitous \\'09), Toronto, Canada, July 13–16, 2009.\\n^ Dawud Gordon, Jan-Hendrik Hanne, Martin Berchtold, Ali Asghar Nazari Shirehjini, Michael Beigl: Towards Collaborative Group Activity Recognition Using Mobile Devices, Mobile Networks and Applications 18(3), 2013, p. 326-340\\n^ Lewin, K. Field theory in social science: selected theoretical papers. Social science paperbacks. Harper, New York, 1951.\\n^ Hirano, T., and Maekawa, T. A hybrid unsupervised/supervised model for group activity recognition. In Proceedings of the 2013 International Symposium on Wearable Computers, ISWC ’13, ACM (New York, NY, USA, 2013), 21–24\\n^ Brdiczka, O., Maisonnasse, J., Reignier, P., and Crowley, J. L. Detecting small group activities from multimodal observations. Applied Intelligence 30, 1 (July 2007), 47–57.\\n^ Dawud Gordon, Group Activity Recognition Using Wearable Sensing Devices, Dissertation, Karlsruhe Institute of Technology, 2014\\n^ H. Kautz. \"A formal theory of plan recognition\". In PhD thesis, University of Rochester, 1987.\\n^ N. Lesh and O. Etzioni. \"A sound and fast goal recognizer\". In Proceedings of the International Joint Conference on Artificial Intelligence, 1995.\\n^ Do, Thang; Seng W. Loke; Fei Liu (2011). \"Answer Set Programming for Stream Reasoning\". Advances in Artificial Intelligence, Lecture Notes in Computer Science. 6657: 104–109.\\xa0\\n^ Do, Thang; Seng W. Loke; Fei Liu (2012). \"HealthyLife: an Activity Recognition System with Smartphone using Logic-Based Stream Reasoning\" (PDF). Proceedings of the 9th International Conference on Mobile and Ubiquitous Systems: Computing, Networking and Services, (Mobiquitous 2012).\\xa0\\n^ E. Charniak and R.P. Goldman. \"A Bayesian model of plan recognition\". Artificial Intelligence, 64:53–79, 1993.\\n^ M.R. Hodges and M.E. Pollack. \"An \\'object-use fingerprint\\': The use of electronic sensors for human identification\". In Proceedings of the 9th International Conference on Ubiquitous Computing, 2007.\\n^ Mike Perkowitz, Matthai Philipose, Donald J. Patterson, and Kenneth P. Fishkin. \"Mining models of human activities from the web\". In Proceedings of the Thirteenth International World Wide Web Conference (WWW 2004), pages 573–582, May 2004.\\n^ Matthai Philipose, Kenneth P. Fishkin, Mike Perkowitz, Donald J. Patterson, Dieter Fox, Henry Kautz, and Dirk Hähnel. \"Inferring activities from interactions with objects\". In IEEE Pervasive Computing, pages 50–57, October 2004.\\n^ Dieter Fox Lin Liao, Donald J. Patterson and Henry A. Kautz. \"Learning and inferring transportation routines\". Artif. Intell., 171(5-6):311–331, 2007.\\n^ Piyathilaka, L.; Kodagoda, S., \"Gaussian mixture based HMM for human daily activity recognition using 3D skeleton features,\" Industrial Electronics and Applications (ICIEA), 2013 8th IEEE Conference on, vol., no., pp.567,572, 19–21 June 2013\\n^ TLM van Kasteren, Gwenn Englebienne, BJA Kröse. \"Human activity recognition from wireless sensor network data: Benchmark and software.\" Activity Recognition in Pervasive Intelligent Environments, 165-186, Atlantis Press\\n^ a b c TLM van Kasteren, Gwenn Englebienne, Ben Kröse\" Hierarchical Activity Recognition Using Automatically Clustered Actions\", 2011, Ambient Intelligence, 82-91, Springer Berlin/Heidelberg\\n^ Daniel Wilson and Chris Atkeson. Simultaneous tracking and activityrecognition (star) using many anonymous binary sensors. In Proceedings of the 3rd international conference on Pervasive Computing, Pervasive, pages 62–79, Munich, Germany, 2005.\\n^ Nuria Oliver, Barbara Rosario and Alex Pentland \"A Bayesian Computer Vision System for Modeling Human Interactions\" Appears in PAMI Special Issue on Visual Surveillance and Monitoring, Aug 00\\n^ TLM Van Kasteren, Athanasios Noulas, Gwenn Englebienne, Ben Kröse, \"Accurate activity recognition in a home setting\", 2008/9/21, Proceedings of the 10th international conference on Ubiquitous computing, 1-9, ACM\\n^ Derek Hao Hu, Sinno Jialin Pan, Vincent Wenchen Zheng, Nathan NanLiu, and Qiang Yang. Real world activity recognition with multiple goals.In Proceedings of the 10th international conference on Ubiquitous computing, Ubicomp, pages 30–39, New York, NY, USA, 2008. ACM.\\n^ a b Nuria Oliver, Ashutosh Garg, and Eric Horvitz. Layered representations for learning and inferring office activity from multiple sensory channels. Comput. Vis. Image Underst., 96(2):163–180, 2004.\\n^ Amarnag Subramanya, Alvin Raj, Jeff Bilmes, and Dieter Fox. Hierarchical models for activity recognition. In Proceedings of the international conference on Multimedia Signal Processing, MMSP, Victoria, CA, October 2006.\\n^ Tao Gu, Zhanqing Wu, Xianping Tao, Hung Keng Pung, and Jian Lu. epSICAR: An Emerging Patterns based Approach to Sequential, Interleaved and Concurrent Activity Recognition. In Proc. of the 7th Annual IEEE International Conference on Pervasive Computing and Communications (Percom \\'09), Galveston, Texas, March 9–13, 2009.\\n^ Gilbert A, Illingworth J, Bowden R. Action Recognition using Mined Hierarchical Compound Features. IEEE Trans Pattern Analysis and Machine Learning\\n^ Piyathilaka, L.; Kodagoda, S., \"Gaussian mixture based HMM for human daily activity recognition using 3D skeleton features,\" Industrial Electronics and Applications (ICIEA), 2013 8th IEEE Conference on, vol., no., pp.567,572, 19–21 June 2013 URL: http://ieeexplore.ieee.org/stamp/stamp.jsp?tp=&arnumber=6566433&isnumber=6566328\\n^ R. Damaševičius, M. Vasiljevas, J. Šalkevičius, and M. Woźniak, Human Activity Recognition in AAL Environments Using Random Projections, Computational and Mathematical Methods in Medicine, vol. 2016, Article ID 4073584, 17 pages, 2016. doi:10.1155/2016/4073584\\n^ Jie Yin, Xiaoyong Chai and Qiang Yang, \"High-level Goal Recognition in a Wireless LAN\". In Proceedings of the Nineteenth National Conference on Artificial Intelligence (AAAI-04), San Jose, CA USA, July 2004. Pages 578-584\\n^ Xiaoyong Chai and Qiang Yang, \"Multiple-Goal Recognition From Low-level Signals\". Proceedings of the Twentieth National Conference on Artificial Intelligence (AAAI 2005), Pittsburg, PA USA, July 2005. Pages 3-8.\\n^ Derek Hao Hu, Qiang Yang. \"CIGAR: Concurrent and Interleaving Goal and Activity Recognition\", to appear in AAAI 2008\\n^ Jie Yin, Dou Shen, Qiang Yang and Ze-nian Li \"Activity Recognition through Goal-Based Segmentation\". Proceedings of the Twentieth National Conference on Artificial Intelligence (AAAI 2005), Pittsburg, PA USA, July 2005. Pages 28-33.\\n^ Jie Yin, Qiang Yang and Lionel Ni. \"Adaptive Temporal Radio Maps for Indoor Location Estimation\". In Proceedings of the 3rd Annual IEEE International Conference on Pervasive Computing and Communications (IEEE PerCom 2005), Kauai Island, Hawaii, March, 2005. Pages 85-94.\\n^ Xiaoyong Chai and Qiang Yang. \"Reducing the Calibration Effort for Location Estimation Using Unlabeled Samples\". In Proceedings of the 3rd Annual IEEE International Conference on Pervasive Computing and Communications, (IEEE PerCom 2005) Kauai Island, Hawaii, March 2005. Pages 95--104.\\n^ Jeffrey Junfeng Pan, Qiang Yang and Sinno Jialin Pan. \"Online Co-Localization in Indoor Wireless Networks\". In Proceedings of the 22nd AAAI Conference on Artificial Intelligence (AAAI\\'07) Vancouver, British Columbia, Canada. July 2007. 1102-1107\\n^ Sinno Jialin Pan, James T. Kwok, Qiang Yang, Jeffrey Junfeng Pan. \"Adaptive localization in a dynamic WiFi environment through multi-view learning\". In Proceedings of the 22nd AAAI Conference on Artificial Intelligence (AAAI\\'07) Vancouver, British Columbia, Canada. July 2007. 1108-1113\\n^ Pollack, M.E., and et al., L. E. B. 2003. \"Autominder: an intelligent cognitive orthotic system for people with memory impairment\". Robotics and Autonomous Systems 44(3-4):273–282.\\n\\n\\n\\n\\n\\n\\n\\n\\n\\n',\n",
       "  'title': 'Activity recognition'}}"
      ]
     },
     "execution_count": 27,
     "metadata": {},
     "output_type": "execute_result"
    }
   ],
   "source": [
    "content"
   ]
  },
  {
   "cell_type": "code",
   "execution_count": 34,
   "metadata": {
    "collapsed": true
   },
   "outputs": [],
   "source": [
    "from pymongo import MongoClient"
   ]
  },
  {
   "cell_type": "code",
   "execution_count": 29,
   "metadata": {
    "collapsed": true
   },
   "outputs": [],
   "source": [
    "client = MongoClient('ec2-54-69-203-249.us-west-2.compute.amazonaws.com', 27016)"
   ]
  },
  {
   "cell_type": "code",
   "execution_count": 8,
   "metadata": {},
   "outputs": [
    {
     "data": {
      "text/plain": [
       "['admin', 'local', 'my_database', 'test']"
      ]
     },
     "execution_count": 8,
     "metadata": {},
     "output_type": "execute_result"
    }
   ],
   "source": [
    "client.database_names()"
   ]
  },
  {
   "cell_type": "code",
   "execution_count": 9,
   "metadata": {
    "collapsed": true
   },
   "outputs": [],
   "source": [
    "# create wiki database\n",
    "wiki_db = client.wiki"
   ]
  },
  {
   "cell_type": "code",
   "execution_count": 10,
   "metadata": {},
   "outputs": [
    {
     "data": {
      "text/plain": [
       "['admin', 'local', 'my_database', 'test']"
      ]
     },
     "execution_count": 10,
     "metadata": {},
     "output_type": "execute_result"
    }
   ],
   "source": [
    "client.database_names()"
   ]
  },
  {
   "cell_type": "code",
   "execution_count": 11,
   "metadata": {
    "collapsed": true
   },
   "outputs": [],
   "source": [
    "# create a collection within wiki db\n",
    "page_ref = wiki_db.wiki_pages"
   ]
  },
  {
   "cell_type": "code",
   "execution_count": 12,
   "metadata": {},
   "outputs": [
    {
     "data": {
      "text/plain": [
       "<pymongo.results.InsertOneResult at 0x7eff451598b8>"
      ]
     },
     "execution_count": 12,
     "metadata": {},
     "output_type": "execute_result"
    }
   ],
   "source": [
    "page_ref.insert_one(content['parse'])"
   ]
  },
  {
   "cell_type": "code",
   "execution_count": 13,
   "metadata": {
    "collapsed": true
   },
   "outputs": [],
   "source": [
    "wiki_cursor = page_ref.find()"
   ]
  },
  {
   "cell_type": "code",
   "execution_count": 14,
   "metadata": {},
   "outputs": [
    {
     "data": {
      "text/plain": [
       "{'_id': ObjectId('5a11e1237c7fcf00aba1a8eb'),\n",
       " 'categories': [{'*': 'Cognition', 'sortkey': 'Activity Recognition'},\n",
       "  {'*': 'Artificial_intelligence_applications',\n",
       "   'sortkey': 'Activity Recognition'},\n",
       "  {'*': 'Applied_machine_learning', 'sortkey': 'Activity Recognition'}],\n",
       " 'pageid': 15795950,\n",
       " 'text': {'*': '<div class=\"mw-parser-output\"><p><b>Activity recognition</b> aims to recognize the actions and goals of one or more agents from a series of observations on the agents\\' actions and the environmental conditions. Since the 1980s, this research field has captured the attention of several <a href=\"/wiki/Computer_science\" title=\"Computer science\">computer science</a> communities due to its strength in providing personalized support for many different applications and its connection to many different fields of study such as medicine, human-computer interaction, or sociology.</p>\\n<p><br />\\nDue to its many-faceted nature, different fields may refer to activity recognition as plan recognition, goal recognition, intent recognition, behavior recognition, location estimation and location-based services.</p>\\n<p></p>\\n<div id=\"toc\" class=\"toc\">\\n<div class=\"toctitle\">\\n<h2>Contents</h2>\\n</div>\\n<ul>\\n<li class=\"toclevel-1 tocsection-1\"><a href=\"#Types_of_activity_recognition\"><span class=\"tocnumber\">1</span> <span class=\"toctext\">Types of activity recognition</span></a>\\n<ul>\\n<li class=\"toclevel-2 tocsection-2\"><a href=\"#Sensor-based.2C_single-user_activity_recognition\"><span class=\"tocnumber\">1.1</span> <span class=\"toctext\">Sensor-based, single-user activity recognition</span></a>\\n<ul>\\n<li class=\"toclevel-3 tocsection-3\"><a href=\"#Levels_of_sensor-based_activity_recognition\"><span class=\"tocnumber\">1.1.1</span> <span class=\"toctext\">Levels of sensor-based activity recognition</span></a></li>\\n</ul>\\n</li>\\n<li class=\"toclevel-2 tocsection-4\"><a href=\"#Sensor-based.2C_multi-user_activity_recognition\"><span class=\"tocnumber\">1.2</span> <span class=\"toctext\">Sensor-based, multi-user activity recognition</span></a></li>\\n<li class=\"toclevel-2 tocsection-5\"><a href=\"#Sensor-based_group_activity_recognition\"><span class=\"tocnumber\">1.3</span> <span class=\"toctext\">Sensor-based group activity recognition</span></a></li>\\n</ul>\\n</li>\\n<li class=\"toclevel-1 tocsection-6\"><a href=\"#Approaches_of_activity_recognition\"><span class=\"tocnumber\">2</span> <span class=\"toctext\">Approaches of activity recognition</span></a>\\n<ul>\\n<li class=\"toclevel-2 tocsection-7\"><a href=\"#Activity_recognition_through_logic_and_reasoning\"><span class=\"tocnumber\">2.1</span> <span class=\"toctext\">Activity recognition through logic and reasoning</span></a></li>\\n<li class=\"toclevel-2 tocsection-8\"><a href=\"#Activity_recognition_through_probabilistic_reasoning\"><span class=\"tocnumber\">2.2</span> <span class=\"toctext\">Activity recognition through probabilistic reasoning</span></a></li>\\n<li class=\"toclevel-2 tocsection-9\"><a href=\"#Data_mining_based_approach_to_activity_recognition\"><span class=\"tocnumber\">2.3</span> <span class=\"toctext\">Data mining based approach to activity recognition</span></a></li>\\n</ul>\\n</li>\\n<li class=\"toclevel-1 tocsection-10\"><a href=\"#Sensors_used_in_activity_recognition\"><span class=\"tocnumber\">3</span> <span class=\"toctext\">Sensors used in activity recognition</span></a>\\n<ul>\\n<li class=\"toclevel-2 tocsection-11\"><a href=\"#Vision-based_activity_recognition\"><span class=\"tocnumber\">3.1</span> <span class=\"toctext\">Vision-based activity recognition</span></a>\\n<ul>\\n<li class=\"toclevel-3 tocsection-12\"><a href=\"#Levels_of_vision-based_activity_recognition\"><span class=\"tocnumber\">3.1.1</span> <span class=\"toctext\">Levels of vision-based activity recognition</span></a></li>\\n<li class=\"toclevel-3 tocsection-13\"><a href=\"#Automatic_gait_recognition\"><span class=\"tocnumber\">3.1.2</span> <span class=\"toctext\">Automatic gait recognition</span></a></li>\\n</ul>\\n</li>\\n<li class=\"toclevel-2 tocsection-14\"><a href=\"#Wi-Fi-based_activity_recognition\"><span class=\"tocnumber\">3.2</span> <span class=\"toctext\">Wi-Fi-based activity recognition</span></a></li>\\n</ul>\\n</li>\\n<li class=\"toclevel-1 tocsection-15\"><a href=\"#Applications_of_activity_recognition\"><span class=\"tocnumber\">4</span> <span class=\"toctext\">Applications of activity recognition</span></a></li>\\n<li class=\"toclevel-1 tocsection-16\"><a href=\"#Labs_in_the_world\"><span class=\"tocnumber\">5</span> <span class=\"toctext\">Labs in the world</span></a></li>\\n<li class=\"toclevel-1 tocsection-17\"><a href=\"#Related_conferences\"><span class=\"tocnumber\">6</span> <span class=\"toctext\">Related conferences</span></a></li>\\n<li class=\"toclevel-1 tocsection-18\"><a href=\"#See_also\"><span class=\"tocnumber\">7</span> <span class=\"toctext\">See also</span></a></li>\\n<li class=\"toclevel-1 tocsection-19\"><a href=\"#References\"><span class=\"tocnumber\">8</span> <span class=\"toctext\">References</span></a></li>\\n</ul>\\n</div>\\n<p></p>\\n<h2><span class=\"mw-headline\" id=\"Types_of_activity_recognition\">Types of activity recognition</span><span class=\"mw-editsection\"><span class=\"mw-editsection-bracket\">[</span><a href=\"/w/index.php?title=Activity_recognition&amp;action=edit&amp;section=1\" title=\"Edit section: Types of activity recognition\">edit</a><span class=\"mw-editsection-bracket\">]</span></span></h2>\\n<h3><span id=\"Sensor-based,_single-user_activity_recognition\"></span><span class=\"mw-headline\" id=\"Sensor-based.2C_single-user_activity_recognition\">Sensor-based, single-user activity recognition</span><span class=\"mw-editsection\"><span class=\"mw-editsection-bracket\">[</span><a href=\"/w/index.php?title=Activity_recognition&amp;action=edit&amp;section=2\" title=\"Edit section: Sensor-based, single-user activity recognition\">edit</a><span class=\"mw-editsection-bracket\">]</span></span></h3>\\n<p><a href=\"/wiki/Sensor\" title=\"Sensor\">Sensor</a>-based activity recognition integrates the emerging area of sensor networks with novel <a href=\"/wiki/Data_mining\" title=\"Data mining\">data mining</a> and <a href=\"/wiki/Machine_learning\" title=\"Machine learning\">machine learning</a> techniques to model a wide range of human activities.<sup id=\"cite_ref-1\" class=\"reference\"><a href=\"#cite_note-1\">[1]</a></sup><sup id=\"cite_ref-2\" class=\"reference\"><a href=\"#cite_note-2\">[2]</a></sup> Mobile devices (e.g. smart phones) provide sufficient sensor data and calculation power to enable physical activity recognition to provide an estimation of the energy consumption during everyday life. Sensor-based activity recognition researchers believe that by empowering <a href=\"/wiki/Ubiquitous_computing\" title=\"Ubiquitous computing\">ubiquitous computers</a> and sensors to monitor the behavior of agents (under consent), these computers will be better suited to act on our behalf.</p>\\n<h4><span class=\"mw-headline\" id=\"Levels_of_sensor-based_activity_recognition\">Levels of sensor-based activity recognition</span><span class=\"mw-editsection\"><span class=\"mw-editsection-bracket\">[</span><a href=\"/w/index.php?title=Activity_recognition&amp;action=edit&amp;section=3\" title=\"Edit section: Levels of sensor-based activity recognition\">edit</a><span class=\"mw-editsection-bracket\">]</span></span></h4>\\n<p>Sensor-based activity recognition is a challenging task due to the inherent noisy nature of the input. Thus, <a href=\"/wiki/Statistical_modeling\" class=\"mw-redirect\" title=\"Statistical modeling\">statistical modeling</a> has been the main thrust in this direction in layers, where the recognition at several intermediate levels is conducted and connected. At the lowest level where the sensor data are collected, statistical learning concerns how to find the detailed locations of agents from the received signal data. At an intermediate level, <a href=\"/wiki/Statistical_inference\" title=\"Statistical inference\">statistical inference</a> may be concerned about how to recognize individuals\\' activities from the inferred location sequences and environmental conditions at the lower levels. Furthermore, at the highest level a major concern is to find out the overall goal or subgoals of an agent from the activity sequences through a mixture of logical and statistical reasoning. Scientific conferences where activity recognition work from wearable and environmental often appears are <a href=\"/wiki/International_Symposium_on_Wearable_Computers\" title=\"International Symposium on Wearable Computers\">ISWC</a> and <a rel=\"nofollow\" class=\"external text\" href=\"http://www.ubicomp.org/ubicomp2011/\">UbiComp</a>.</p>\\n<h3><span id=\"Sensor-based,_multi-user_activity_recognition\"></span><span class=\"mw-headline\" id=\"Sensor-based.2C_multi-user_activity_recognition\">Sensor-based, multi-user activity recognition</span><span class=\"mw-editsection\"><span class=\"mw-editsection-bracket\">[</span><a href=\"/w/index.php?title=Activity_recognition&amp;action=edit&amp;section=4\" title=\"Edit section: Sensor-based, multi-user activity recognition\">edit</a><span class=\"mw-editsection-bracket\">]</span></span></h3>\\n<p>Recognizing activities for multiple users using on-body sensors first appeared in the work by ORL using active badge systems<sup id=\"cite_ref-3\" class=\"reference\"><a href=\"#cite_note-3\">[3]</a></sup> in the early 90\\'s. Other sensor technology such as acceleration sensors were used for identifying group activity patterns during office scenarios.<sup id=\"cite_ref-4\" class=\"reference\"><a href=\"#cite_note-4\">[4]</a></sup> Activities of Multiple Users in intelligent environments are addressed in Gu et al.<sup id=\"cite_ref-5\" class=\"reference\"><a href=\"#cite_note-5\">[5]</a></sup> In this work, they investigate the fundamental problem of recognizing activities for multiple users from sensor readings in a home environment, and propose a novel pattern mining approach to recognize both single-user and multi-user activities in a unified solution.</p>\\n<h3><span class=\"mw-headline\" id=\"Sensor-based_group_activity_recognition\">Sensor-based group activity recognition</span><span class=\"mw-editsection\"><span class=\"mw-editsection-bracket\">[</span><a href=\"/w/index.php?title=Activity_recognition&amp;action=edit&amp;section=5\" title=\"Edit section: Sensor-based group activity recognition\">edit</a><span class=\"mw-editsection-bracket\">]</span></span></h3>\\n<p>Recognition of group activities is fundamentally different from single, or multi-user activity recognition in that the goal is to recognize the behavior of the group as an entity, rather than the activities of the individual members within it.<sup id=\"cite_ref-6\" class=\"reference\"><a href=\"#cite_note-6\">[6]</a></sup> Group behavior is emergent in nature, meaning that the properties of the behavior of the group are fundamentally different then the properties of the behavior of the individuals within it, or any sum of that behavior.<sup id=\"cite_ref-7\" class=\"reference\"><a href=\"#cite_note-7\">[7]</a></sup> The main challenges are in modeling the behavior of the individual group members, as well as the roles of the individual within the group dynamic <sup id=\"cite_ref-8\" class=\"reference\"><a href=\"#cite_note-8\">[8]</a></sup> and their relationship to emergent behavior of the group in parallel.<sup id=\"cite_ref-9\" class=\"reference\"><a href=\"#cite_note-9\">[9]</a></sup> Challenges which must still be addressed include quantification of the behavior and roles of individuals who join the group, integration of explicit models for role description into inference algorithms, and scalability evaluations for very large groups and crowds. Group activity recognition has applications for crowd management and response in emergency situations, as well as for social networking and <a href=\"/wiki/Quantified_Self\" title=\"Quantified Self\">Quantified Self</a> applications.<sup id=\"cite_ref-10\" class=\"reference\"><a href=\"#cite_note-10\">[10]</a></sup></p>\\n<h2><span class=\"mw-headline\" id=\"Approaches_of_activity_recognition\">Approaches of activity recognition</span><span class=\"mw-editsection\"><span class=\"mw-editsection-bracket\">[</span><a href=\"/w/index.php?title=Activity_recognition&amp;action=edit&amp;section=6\" title=\"Edit section: Approaches of activity recognition\">edit</a><span class=\"mw-editsection-bracket\">]</span></span></h2>\\n<h3><span class=\"mw-headline\" id=\"Activity_recognition_through_logic_and_reasoning\">Activity recognition through logic and reasoning</span><span class=\"mw-editsection\"><span class=\"mw-editsection-bracket\">[</span><a href=\"/w/index.php?title=Activity_recognition&amp;action=edit&amp;section=7\" title=\"Edit section: Activity recognition through logic and reasoning\">edit</a><span class=\"mw-editsection-bracket\">]</span></span></h3>\\n<p>Logic-based approaches keep track of all <a href=\"/wiki/Logically_consistent\" class=\"mw-redirect\" title=\"Logically consistent\">logically consistent</a> explanations of the observed actions. Thus, all possible and consistent plans or goals must be considered. Kautz<sup id=\"cite_ref-11\" class=\"reference\"><a href=\"#cite_note-11\">[11]</a></sup> provided a formal theory of plan recognition. He described plan recognition as a logical inference process of circumscription. All actions, plans are uniformly referred to as goals, and a recognizer\\'s knowledge is represented by a set of first-order statements called event hierarchy encoded in first-order logic, which defines abstraction, decomposition and functional relationships between types of events.</p>\\n<p>Kautz\\'s general framework for plan recognition has an exponential time complexity in worst case, measured in the size of input hierarchy. Lesh and Etzioni<sup id=\"cite_ref-12\" class=\"reference\"><a href=\"#cite_note-12\">[12]</a></sup> went one step further and presented methods in scaling up goal recognition to scale up his work computationally. In contrast to Kautz\\'s approach where the plan library is explicitly represented, Lesh and Etzioni\\'s approach enables automatic plan-library construction from domain primitives. Furthermore, they introduced compact representations and efficient algorithms for goal recognition on large plan libraries.</p>\\n<p>Inconsistent plans and goals are repeatedly pruned when new actions arrive. Besides, they also presented methods for adapting a goal recognizer to handle individual idiosyncratic behavior given a sample of an individual\\'s recent behavior. Pollack et al. described a direct argumentation model that can know about the relative strength of several kinds of arguments for belief and intention description.</p>\\n<p>A serious problem of logic-based approaches is their inability or inherent infeasibility to represent uncertainty. They offer no mechanism for preferring one consistent approach to another and incapable of deciding whether one particular plan is more likely than another, as long as both of them can be consistent enough to explain the actions observed. There is also a lack of learning ability associated with logic based methods.</p>\\n<p>Another approach to logic-based activity recognition is to use stream reasoning based on Answer Set Programming,<sup id=\"cite_ref-13\" class=\"reference\"><a href=\"#cite_note-13\">[13]</a></sup> and has been applied to recognising activities for health-related applications,<sup id=\"cite_ref-14\" class=\"reference\"><a href=\"#cite_note-14\">[14]</a></sup> which uses weak constraints to model a degree of ambiguity/uncertainty.</p>\\n<h3><span class=\"mw-headline\" id=\"Activity_recognition_through_probabilistic_reasoning\">Activity recognition through probabilistic reasoning</span><span class=\"mw-editsection\"><span class=\"mw-editsection-bracket\">[</span><a href=\"/w/index.php?title=Activity_recognition&amp;action=edit&amp;section=8\" title=\"Edit section: Activity recognition through probabilistic reasoning\">edit</a><span class=\"mw-editsection-bracket\">]</span></span></h3>\\n<p>Probability theory and statistical learning models are more recently applied in activity recognition to reason about actions, plans and goals under uncertainty.<sup id=\"cite_ref-15\" class=\"reference\"><a href=\"#cite_note-15\">[15]</a></sup> In the literature, there have been several approaches which explicitly represent uncertainty in reasoning about an agent\\'s plans and goals.</p>\\n<p>Using sensor data as input, Hodges and Pollack designed machine learning-based systems for identifying individuals as they perform routine daily activities such as making coffee.<sup id=\"cite_ref-16\" class=\"reference\"><a href=\"#cite_note-16\">[16]</a></sup> <a href=\"/wiki/Intel_Research_Lablets\" title=\"Intel Research Lablets\">Intel Research (Seattle) Lab</a> and <a href=\"/wiki/University_of_Washington\" title=\"University of Washington\">University of Washington</a> at Seattle have done some important works on using sensors to detect human plans.<sup id=\"cite_ref-17\" class=\"reference\"><a href=\"#cite_note-17\">[17]</a></sup><sup id=\"cite_ref-18\" class=\"reference\"><a href=\"#cite_note-18\">[18]</a></sup><sup id=\"cite_ref-19\" class=\"reference\"><a href=\"#cite_note-19\">[19]</a></sup><sup id=\"cite_ref-20\" class=\"reference\"><a href=\"#cite_note-20\">[20]</a></sup> Some of these works infer user transportation modes from readings of radio-frequency identifiers (RFID) and global positioning systems (GPS).</p>\\n<p>The use of temporal probabilistic models has been shown to perform well in activity recognition and generally outperform non-temporal models.<sup id=\"cite_ref-21\" class=\"reference\"><a href=\"#cite_note-21\">[21]</a></sup> Generative models such as the Hidden Markov Model (HMM) and the more generally formulated Dynamic Bayesian Networks (DBN) are popular choices in modelling activities from sensor data.<sup id=\"cite_ref-:0_22-0\" class=\"reference\"><a href=\"#cite_note-:0-22\">[22]</a></sup><sup id=\"cite_ref-23\" class=\"reference\"><a href=\"#cite_note-23\">[23]</a></sup><sup id=\"cite_ref-24\" class=\"reference\"><a href=\"#cite_note-24\">[24]</a></sup> Discriminative models such as Conditional Random Fields (CRF) are also commonly applied and also give good performance in activity recognition.<sup id=\"cite_ref-25\" class=\"reference\"><a href=\"#cite_note-25\">[25]</a></sup><sup id=\"cite_ref-26\" class=\"reference\"><a href=\"#cite_note-26\">[26]</a></sup></p>\\n<p>Generative and discriminative models both have their pros and cons and the ideal choice depends on their area of application. A dataset together with implementations of a number of popular models (HMM, CRF) for activity recognition can be found <a rel=\"nofollow\" class=\"external text\" href=\"https://sites.google.com/site/tim0306/datasets\">here</a>.</p>\\n<p>Conventional temporal probabilistic models such as the hidden Markov model (HMM) and conditional random fields (CRF) model directly model the correlations between the activities and the observed sensor data. In recent years, increasing evidence has supported the use of hierarchical models which take into account the rich hierarchical structure that exists in human behavioral data.<sup id=\"cite_ref-:0_22-1\" class=\"reference\"><a href=\"#cite_note-:0-22\">[22]</a></sup><sup id=\"cite_ref-:1_27-0\" class=\"reference\"><a href=\"#cite_note-:1-27\">[27]</a></sup><sup id=\"cite_ref-28\" class=\"reference\"><a href=\"#cite_note-28\">[28]</a></sup> The core idea here is that the model does not directly correlate the activities with the sensor data, but instead breaks the activity into sub-activities (sometimes referred to as actions) and models the underlying correlations accordingly. An example could be the activity of preparing spaghetti, which can be broken down into the subactivities or actions of cutting vegetables, frying the vegetables in a pan and serving it on a plate. Examples of such a hierarchical model are Layered Hidden Markov Models (LHMMs)<sup id=\"cite_ref-:1_27-1\" class=\"reference\"><a href=\"#cite_note-:1-27\">[27]</a></sup> and the hierarchical hidden Markov model (HHMM), which have been shown to significantly outperform its non-hierarchical counterpart in activity recognition.<sup id=\"cite_ref-:0_22-2\" class=\"reference\"><a href=\"#cite_note-:0-22\">[22]</a></sup></p>\\n<h3><span class=\"mw-headline\" id=\"Data_mining_based_approach_to_activity_recognition\">Data mining based approach to activity recognition</span><span class=\"mw-editsection\"><span class=\"mw-editsection-bracket\">[</span><a href=\"/w/index.php?title=Activity_recognition&amp;action=edit&amp;section=9\" title=\"Edit section: Data mining based approach to activity recognition\">edit</a><span class=\"mw-editsection-bracket\">]</span></span></h3>\\n<p>Different from traditional machine learning approaches, an approach based on data mining has been recently proposed. In the work of Gu et al.,<sup id=\"cite_ref-29\" class=\"reference\"><a href=\"#cite_note-29\">[29]</a></sup> the problem of activity recognition is formulated as a pattern-based classification problem. They proposed a data mining approach based on discriminative patterns which describe significant changes between any two activity classes of data to recognize sequential, interleaved and concurrent activities in a unified solution. Gilbert <i>et al.</i><sup id=\"cite_ref-30\" class=\"reference\"><a href=\"#cite_note-30\">[30]</a></sup> use 2D corners in both space and time. These are grouped spatially and temporally using a hierarchical process, with an increasing search area. At each stage of the hierarchy, the most distinctive and descriptive features are learned efficiently through data mining (Apriori rule).</p>\\n<h2><span class=\"mw-headline\" id=\"Sensors_used_in_activity_recognition\">Sensors used in activity recognition</span><span class=\"mw-editsection\"><span class=\"mw-editsection-bracket\">[</span><a href=\"/w/index.php?title=Activity_recognition&amp;action=edit&amp;section=10\" title=\"Edit section: Sensors used in activity recognition\">edit</a><span class=\"mw-editsection-bracket\">]</span></span></h2>\\n<h3><span class=\"mw-headline\" id=\"Vision-based_activity_recognition\">Vision-based activity recognition</span><span class=\"mw-editsection\"><span class=\"mw-editsection-bracket\">[</span><a href=\"/w/index.php?title=Activity_recognition&amp;action=edit&amp;section=11\" title=\"Edit section: Vision-based activity recognition\">edit</a><span class=\"mw-editsection-bracket\">]</span></span></h3>\\n<p>It is a very important and challenging problem to track and understand the behavior of agents through videos taken by various cameras. The primary technique employed is computer vision. Vision-based activity recognition has found many applications such as human-computer interaction, user interface design, robot learning, and surveillance, among others. Scientific conferences where vision based activity recognition work often appears are <a href=\"/wiki/ICCV\" class=\"mw-redirect\" title=\"ICCV\">ICCV</a> and <a href=\"/wiki/CVPR\" class=\"mw-redirect\" title=\"CVPR\">CVPR</a>.</p>\\n<p>In vision-based activity recognition, a great deal of work has been done. Researchers have attempted a number of methods such as <a href=\"/wiki/Optical_flow\" title=\"Optical flow\">optical flow</a>, <a href=\"/wiki/Kalman_filtering\" class=\"mw-redirect\" title=\"Kalman filtering\">Kalman filtering</a>, <a href=\"/wiki/Hidden_Markov_model\" title=\"Hidden Markov model\">Hidden Markov models</a>, etc., under different modalities such as single camera, stereo, and infrared. In addition, researchers have considered multiple aspects on this topic, including single pedestrian tracking, group tracking, and detecting dropped objects.</p>\\n<p>Recently some researchers have used RGBD cameras like Microsoft Kinect to detect human activities. Depth cameras add extra dimension i.e. depth which normal 2d camera fails to provide. Sensory information from these depth cameras have been used to generate real-time skeleton model of humans with different body positions. These skeleton information provides meaningful information that researchers have used to model human activities which are trained and later used to recognize unknown activities.<sup id=\"cite_ref-31\" class=\"reference\"><a href=\"#cite_note-31\">[31]</a></sup></p>\\n<h4><span class=\"mw-headline\" id=\"Levels_of_vision-based_activity_recognition\">Levels of vision-based activity recognition</span><span class=\"mw-editsection\"><span class=\"mw-editsection-bracket\">[</span><a href=\"/w/index.php?title=Activity_recognition&amp;action=edit&amp;section=12\" title=\"Edit section: Levels of vision-based activity recognition\">edit</a><span class=\"mw-editsection-bracket\">]</span></span></h4>\\n<p>In vision-based activity recognition, the computational process is often divided into four steps, namely human detection, human tracking, human activity recognition and then a high-level activity evaluation.</p>\\n<h4><span class=\"mw-headline\" id=\"Automatic_gait_recognition\">Automatic gait recognition</span><span class=\"mw-editsection\"><span class=\"mw-editsection-bracket\">[</span><a href=\"/w/index.php?title=Activity_recognition&amp;action=edit&amp;section=13\" title=\"Edit section: Automatic gait recognition\">edit</a><span class=\"mw-editsection-bracket\">]</span></span></h4>\\n<div role=\"note\" class=\"hatnote navigation-not-searchable\">Main article: <a href=\"/wiki/Gait_recognition\" class=\"mw-redirect\" title=\"Gait recognition\">Gait recognition</a></div>\\n<p>One way to identify specific people is by how they walk. Gait-recognition software can be used to record a person\\'s gait or gait feature profile in a database for the purpose of recognizing that person later,<sup id=\"cite_ref-Damasevicius2016_32-0\" class=\"reference\"><a href=\"#cite_note-Damasevicius2016-32\">[32]</a></sup> even if they are wearing a disguise.</p>\\n<h3><span class=\"mw-headline\" id=\"Wi-Fi-based_activity_recognition\">Wi-Fi-based activity recognition</span><span class=\"mw-editsection\"><span class=\"mw-editsection-bracket\">[</span><a href=\"/w/index.php?title=Activity_recognition&amp;action=edit&amp;section=14\" title=\"Edit section: Wi-Fi-based activity recognition\">edit</a><span class=\"mw-editsection-bracket\">]</span></span></h3>\\n<p>When activity recognition is performed indoors and in cities using the widely available <a href=\"/wiki/Wi-Fi\" title=\"Wi-Fi\">Wi-Fi</a> signals and <a href=\"/wiki/802.11\" class=\"mw-redirect\" title=\"802.11\">802.11</a> access points, there is much noise and uncertainty. These uncertainties are modeled using a dynamic <a href=\"/wiki/Bayesian_network\" title=\"Bayesian network\">Bayesian network</a> model by Yin et al.<sup id=\"cite_ref-33\" class=\"reference\"><a href=\"#cite_note-33\">[33]</a></sup> A multiple goal model that can reason about user\\'s interleaving goals is presented by Chai and Yang,<sup id=\"cite_ref-34\" class=\"reference\"><a href=\"#cite_note-34\">[34]</a></sup> where a <a href=\"/wiki/Deterministic\" class=\"mw-redirect\" title=\"Deterministic\">deterministic</a> state transition model is applied. A better model that models the concurrent and interleaving activities in a probabilistic approach is proposed by Hu and Yang.<sup id=\"cite_ref-35\" class=\"reference\"><a href=\"#cite_note-35\">[35]</a></sup> A user action discovery model is presented by Yin et al.,<sup id=\"cite_ref-36\" class=\"reference\"><a href=\"#cite_note-36\">[36]</a></sup> where the Wi-Fi signals are segmented to produce possible actions.</p>\\n<p>A fundamental problem in Wi-Fi-based activity recognition is to estimate the user locations. Two important issues are how to reduce the human labelling effort and how to cope with the changing signal profiles when the environment changes. Yin et al.<sup id=\"cite_ref-37\" class=\"reference\"><a href=\"#cite_note-37\">[37]</a></sup> dealt with the second issue by transferring the labelled knowledge between time periods. Chai and Yang<sup id=\"cite_ref-38\" class=\"reference\"><a href=\"#cite_note-38\">[38]</a></sup> proposed a hidden Markov model-based method to extend labelled knowledge by leveraging the unlabelled user traces. J. Pan et al.<sup id=\"cite_ref-39\" class=\"reference\"><a href=\"#cite_note-39\">[39]</a></sup> propose to perform location estimation through online co-localization, and S. Pan et al.<sup id=\"cite_ref-40\" class=\"reference\"><a href=\"#cite_note-40\">[40]</a></sup> proposed to apply multi-view learning for migrating the labelled data to a new time period.</p>\\n<h2><span class=\"mw-headline\" id=\"Applications_of_activity_recognition\">Applications of activity recognition</span><span class=\"mw-editsection\"><span class=\"mw-editsection-bracket\">[</span><a href=\"/w/index.php?title=Activity_recognition&amp;action=edit&amp;section=15\" title=\"Edit section: Applications of activity recognition\">edit</a><span class=\"mw-editsection-bracket\">]</span></span></h2>\\n<p>Many different applications have been studied by researchers in activity recognition; examples include assisting the sick and disabled. For example, <a href=\"/wiki/Martha_E._Pollack\" title=\"Martha E. Pollack\">Pollack</a> et al.<sup id=\"cite_ref-41\" class=\"reference\"><a href=\"#cite_note-41\">[41]</a></sup> show that by automatically monitoring human activities, home-based rehabilitation can be provided for people suffering from traumatic brain injuries. One can find applications ranging from security-related applications and logistics support to <a href=\"/wiki/Location-based_service\" title=\"Location-based service\">location-based services</a>.</p>\\n<h2><span class=\"mw-headline\" id=\"Labs_in_the_world\">Labs in the world</span><span class=\"mw-editsection\"><span class=\"mw-editsection-bracket\">[</span><a href=\"/w/index.php?title=Activity_recognition&amp;action=edit&amp;section=16\" title=\"Edit section: Labs in the world\">edit</a><span class=\"mw-editsection-bracket\">]</span></span></h2>\\n<ul>\\n<li><a rel=\"nofollow\" class=\"external text\" href=\"http://www.cis.fordham.edu/wisdm/\">Wireless Sensor Data Mining Lab at Fordham University</a></li>\\n<li><a rel=\"nofollow\" class=\"external text\" href=\"https://web.archive.org/web/20080309033141/http://www.eecs.umich.edu/~pollackm/\">Martha Pollack\\'s research group</a></li>\\n<li><a rel=\"nofollow\" class=\"external text\" href=\"http://www.cse.ust.hk/~qyang/\">Prof Qiang Yang\\'s research group</a></li>\\n<li><a rel=\"nofollow\" class=\"external text\" href=\"http://www.cs.washington.edu/ai/Mobile_Robotics/\">RSE Lab @ University of Washington, leading by Dieter Fox</a></li>\\n<li><a rel=\"nofollow\" class=\"external text\" href=\"http://www.igd.fraunhofer.de/Institut/Abteilungen/Interaktive-Multimedia-Appliances/\">Fraunhofer IGD Lab for Ambient Intelligence</a></li>\\n<li><a rel=\"nofollow\" class=\"external text\" href=\"https://web.archive.org/web/20100624010550/http://www.imada.sdu.dk/~gu/\">Tao Gu\\'s Advanced Network System Lab at University of Southern Denmark</a></li>\\n<li><a rel=\"nofollow\" class=\"external text\" href=\"http://www.pancube.com/MLMC/MLWSN.html\">Jeffrey Junfeng Pan\\'s Sensor-based Localization and Tracking Project</a></li>\\n<li><a rel=\"nofollow\" class=\"external text\" href=\"http://www.cise.ufl.edu/~helal/\">Prof. Helal\\'s mobile and pervasive computing lab at University of Florida</a></li>\\n<li><a rel=\"nofollow\" class=\"external text\" href=\"https://web.archive.org/web/20090912055958/http://www.cuslab.com/eng/template/vba.php\">Ajou University CUSLAB Vision-based Activity Awareness</a></li>\\n<li><a rel=\"nofollow\" class=\"external text\" href=\"http://pac.cs.dartmouth.edu/\">Tanzeem Choudhury\\'s People-Aware Computing (PAC) Group</a></li>\\n<li><a rel=\"nofollow\" class=\"external text\" href=\"http://www.d2.mpi-inf.mpg.de\">Computer Vision and Multimodal Computing Group</a> at <a href=\"/wiki/Max_Planck_Institute_for_Informatics\" title=\"Max Planck Institute for Informatics\">MPI INF</a></li>\\n<li><a rel=\"nofollow\" class=\"external text\" href=\"http://www.wearable.ethz.ch/\">Wearable Computing Lab at ETH Zurich</a></li>\\n<li><a rel=\"nofollow\" class=\"external text\" href=\"https://web.archive.org/web/20110823065703/http://enalab.eng.yale.edu/\">The BehaviorScope Project at ENALAB - Yale</a></li>\\n<li><a rel=\"nofollow\" class=\"external text\" href=\"https://web.archive.org/web/20100128094915/http://www.ess.tu-darmstadt.de/\">The Embedded Sensing Systems group</a> at <a href=\"/wiki/Darmstadt_University_of_Technology\" class=\"mw-redirect\" title=\"Darmstadt University of Technology\">TU Darmstadt</a></li>\\n<li><a rel=\"nofollow\" class=\"external text\" href=\"https://es.informatik.uni-freiburg.de\">The Embedded Systems group</a> at the <a href=\"/wiki/University_of_Freiburg\" title=\"University of Freiburg\">University of Freiburg</a></li>\\n<li><a rel=\"nofollow\" class=\"external text\" href=\"http://ailab.wsu.edu/casas/\">WSU CASAS Smart Home Project</a></li>\\n<li><a rel=\"nofollow\" class=\"external text\" href=\"http://epsl.eecs.wsu.edu/\">Embedded &amp; Pervasive Systems Lab / EPSL</a> at <a rel=\"nofollow\" class=\"external text\" href=\"http://www.wsu.edu\">Washington State University</a>, USA</li>\\n<li><a rel=\"nofollow\" class=\"external text\" href=\"https://web.archive.org/web/20101219143157/http://www.kn-s.dlr.de/activity/\">DLR Institute for Communications and Navigation Activity Recognition Project</a></li>\\n<li><a rel=\"nofollow\" class=\"external text\" href=\"http://www.comp.leeds.ac.uk/vision/index.html\">Activity Analysis Research Group of Leeds University, UK</a></li>\\n<li><a rel=\"nofollow\" class=\"external text\" href=\"http://liara.uqac.ca/\">Laboratoire d\\'Intelligence Ambiante pour la Reconnaissance de l’Activité (LIARA), Canada</a></li>\\n<li><a rel=\"nofollow\" class=\"external text\" href=\"http://www.teco.kit.edu/\">Pervasive Computing Systems / TecO Lab</a> at <a rel=\"nofollow\" class=\"external text\" href=\"http://www.kit.edu\">Karlsruhe Institute of Technology</a>, Germany</li>\\n<li><a rel=\"nofollow\" class=\"external text\" href=\"http://dis.ijs.si/?page_id=388\">Department of Intelligent System</a> at <a href=\"/wiki/Jo%C5%BEef_Stefan_Institute\" title=\"Jožef Stefan Institute\">Jožef Stefan Institute</a></li>\\n<li><a rel=\"nofollow\" class=\"external text\" href=\"https://mmis.informatik.uni-rostock.de/index.php?title=Smart_Appliance_Lab\">SmartLab</a> of <a rel=\"nofollow\" class=\"external text\" href=\"https://mmis.informatik.uni-rostock.de/index.php?title=MMIS_Home\">Mobile Multimedia Information Systems Group</a> at <a href=\"/wiki/University_of_Rostock\" title=\"University of Rostock\">University of Rostock</a>, Germany</li>\\n<li><a rel=\"nofollow\" class=\"external text\" href=\"http://liris.cnrs.fr/imagine\">Imagine Research group</a> at <a rel=\"nofollow\" class=\"external text\" href=\"http://liris.cnrs.fr\">LIRIS laboratory</a>, Lyon, France</li>\\n<li><a rel=\"nofollow\" class=\"external text\" href=\"http://di.ncl.ac.uk\">Digital Interaction Group</a> at <a rel=\"nofollow\" class=\"external text\" href=\"http://www.ncl.ac.uk/culturelab/\">Culture Lab</a>, Newcastle University, UK</li>\\n<li><a rel=\"nofollow\" class=\"external text\" href=\"http://bioimage.khu.ac.kr\">Bio-imaging Lab</a> at <a href=\"/wiki/Kyung_Hee_University\" title=\"Kyung Hee University\">Kyung Hee University</a>, Republic of Korea</li>\\n</ul>\\n<h2><span class=\"mw-headline\" id=\"Related_conferences\">Related conferences</span><span class=\"mw-editsection\"><span class=\"mw-editsection-bracket\">[</span><a href=\"/w/index.php?title=Activity_recognition&amp;action=edit&amp;section=17\" title=\"Edit section: Related conferences\">edit</a><span class=\"mw-editsection-bracket\">]</span></span></h2>\\n<ul>\\n<li><a rel=\"nofollow\" class=\"external text\" href=\"http://www.aaai.org/\">AAAI</a></li>\\n<li><a rel=\"nofollow\" class=\"external text\" href=\"http://vision.eecs.ucf.edu/\">CVPR</a></li>\\n<li><a rel=\"nofollow\" class=\"external text\" href=\"http://www.iccv2009.org/\">ICCV</a></li>\\n<li><a rel=\"nofollow\" class=\"external text\" href=\"http://www.ijcai.org/\">IJCAI</a></li>\\n<li><a rel=\"nofollow\" class=\"external text\" href=\"http://nips.cc/\">NIPS</a></li>\\n<li><a rel=\"nofollow\" class=\"external text\" href=\"http://pervasiveconference.org/\">PERVASIVE</a></li>\\n<li><a rel=\"nofollow\" class=\"external text\" href=\"http://www.ubicomp.org/\">Ubicomp</a></li>\\n<li><a rel=\"nofollow\" class=\"external text\" href=\"http://www.percom.org/\">PerCom</a></li>\\n<li><a rel=\"nofollow\" class=\"external text\" href=\"http://www.iswc.net/\">ISWC</a></li>\\n<li><a rel=\"nofollow\" class=\"external text\" href=\"http://www.icaps-conference.org/\">ICAPS</a></li>\\n<li><a rel=\"nofollow\" class=\"external text\" href=\"http://ami-conferences.org/\">AmI</a></li>\\n<li><a rel=\"nofollow\" class=\"external text\" href=\"http://www.intenv.org/\">IE</a></li>\\n</ul>\\n<h2><span class=\"mw-headline\" id=\"See_also\">See also</span><span class=\"mw-editsection\"><span class=\"mw-editsection-bracket\">[</span><a href=\"/w/index.php?title=Activity_recognition&amp;action=edit&amp;section=18\" title=\"Edit section: See also\">edit</a><span class=\"mw-editsection-bracket\">]</span></span></h2>\\n<dl>\\n<dt>online lectures on activity recognition</dt>\\n</dl>\\n<ul>\\n<li><a rel=\"nofollow\" class=\"external text\" href=\"https://web.archive.org/web/20160123052240/http://www.ess.tu-darmstadt.de/sites/default/files/act_rec/actrec_1.html\">Introduction to Activity Recognition lecture at ESS, Darmstadt</a></li>\\n</ul>\\n<dl>\\n<dt>related articles</dt>\\n</dl>\\n<ul>\\n<li><a href=\"/wiki/AI_effect\" title=\"AI effect\">AI effect</a></li>\\n<li><a href=\"/wiki/Applications_of_artificial_intelligence\" title=\"Applications of artificial intelligence\">Applications of artificial intelligence</a></li>\\n<li><a href=\"/wiki/Conditional_random_field\" title=\"Conditional random field\">Conditional random field</a></li>\\n<li><a href=\"/wiki/Hidden_Markov_model\" title=\"Hidden Markov model\">Hidden Markov model</a></li>\\n<li><a href=\"/wiki/Naive_Bayes_classifier\" title=\"Naive Bayes classifier\">Naive Bayes classifier</a></li>\\n<li><a href=\"/wiki/Planning\" title=\"Planning\">Planning</a></li>\\n<li><a href=\"/wiki/Support_vector_machines\" class=\"mw-redirect\" title=\"Support vector machines\">Support vector machines</a></li>\\n</ul>\\n<dl>\\n<dt>Lists</dt>\\n</dl>\\n<ul>\\n<li><a href=\"/wiki/List_of_emerging_technologies\" title=\"List of emerging technologies\">List of emerging technologies</a></li>\\n<li><a href=\"/wiki/Outline_of_artificial_intelligence\" title=\"Outline of artificial intelligence\">Outline of artificial intelligence</a></li>\\n</ul>\\n<h2><span class=\"mw-headline\" id=\"References\">References</span><span class=\"mw-editsection\"><span class=\"mw-editsection-bracket\">[</span><a href=\"/w/index.php?title=Activity_recognition&amp;action=edit&amp;section=19\" title=\"Edit section: References\">edit</a><span class=\"mw-editsection-bracket\">]</span></span></h2>\\n<div class=\"reflist\" style=\"list-style-type: decimal;\">\\n<div class=\"mw-references-wrap mw-references-columns\">\\n<ol class=\"references\">\\n<li id=\"cite_note-1\"><span class=\"mw-cite-backlink\"><b><a href=\"#cite_ref-1\">^</a></b></span> <span class=\"reference-text\">Tanzeem Choudhury, <a href=\"/wiki/Gaetano_Borriello\" title=\"Gaetano Borriello\">Gaetano Borriello</a>, et al. The Mobile Sensing Platform: An Embedded System for Activity Recognition. Appears in the IEEE Pervasive Magazine - Special Issue on Activity-Based Computing, April 2008.</span></li>\\n<li id=\"cite_note-2\"><span class=\"mw-cite-backlink\"><b><a href=\"#cite_ref-2\">^</a></b></span> <span class=\"reference-text\">Nishkam Ravi, Nikhil Dandekar, Preetham Mysore, Michael Littman. Activity Recognition from Accelerometer Data. Proceedings of the Seventeenth Conference on Innovative Applications of Artificial Intelligence (IAAI/AAAI 2005).</span></li>\\n<li id=\"cite_note-3\"><span class=\"mw-cite-backlink\"><b><a href=\"#cite_ref-3\">^</a></b></span> <span class=\"reference-text\">Want R., Hopper A., Falcao V., Gibbons J.: The Active Badge Location System, ACM Transactions on Information, Systems, Vol. 40, No. 1, pp. 91-102, January 1992</span></li>\\n<li id=\"cite_note-4\"><span class=\"mw-cite-backlink\"><b><a href=\"#cite_ref-4\">^</a></b></span> <span class=\"reference-text\">Bieber G., Kirste T., Untersuchung des gruppendynamischen Aktivitaetsverhaltes im Office-Umfeld, 7. Berliner Werkstatt Mensch-Maschine-Systeme, Berlin, Germany, 2007</span></li>\\n<li id=\"cite_note-5\"><span class=\"mw-cite-backlink\"><b><a href=\"#cite_ref-5\">^</a></b></span> <span class=\"reference-text\">Tao Gu, Zhanqing Wu, Liang Wang, Xianping Tao, and Jian Lu. Mining Emerging Patterns for Recognizing Activities of Multiple Users in Pervasive Computing. In Proc. of the 6th International Conference on Mobile and Ubiquitous Systems: Computing, Networking and Services (MobiQuitous \\'09), Toronto, Canada, July 13–16, 2009.</span></li>\\n<li id=\"cite_note-6\"><span class=\"mw-cite-backlink\"><b><a href=\"#cite_ref-6\">^</a></b></span> <span class=\"reference-text\">Dawud Gordon, Jan-Hendrik Hanne, Martin Berchtold, Ali Asghar Nazari Shirehjini, Michael Beigl: Towards Collaborative Group Activity Recognition Using Mobile Devices, Mobile Networks and Applications 18(3), 2013, p. 326-340</span></li>\\n<li id=\"cite_note-7\"><span class=\"mw-cite-backlink\"><b><a href=\"#cite_ref-7\">^</a></b></span> <span class=\"reference-text\">Lewin, K. Field theory in social science: selected theoretical papers. Social science paperbacks. Harper, New York, 1951.</span></li>\\n<li id=\"cite_note-8\"><span class=\"mw-cite-backlink\"><b><a href=\"#cite_ref-8\">^</a></b></span> <span class=\"reference-text\">Hirano, T., and Maekawa, T. A hybrid unsupervised/supervised model for group activity recognition. In Proceedings of the 2013 International Symposium on Wearable Computers, ISWC ’13, ACM (New York, NY, USA, 2013), 21–24</span></li>\\n<li id=\"cite_note-9\"><span class=\"mw-cite-backlink\"><b><a href=\"#cite_ref-9\">^</a></b></span> <span class=\"reference-text\">Brdiczka, O., Maisonnasse, J., Reignier, P., and Crowley, J. L. Detecting small group activities from multimodal observations. Applied Intelligence 30, 1 (July 2007), 47–57.</span></li>\\n<li id=\"cite_note-10\"><span class=\"mw-cite-backlink\"><b><a href=\"#cite_ref-10\">^</a></b></span> <span class=\"reference-text\">Dawud Gordon, Group Activity Recognition Using Wearable Sensing Devices, Dissertation, Karlsruhe Institute of Technology, 2014</span></li>\\n<li id=\"cite_note-11\"><span class=\"mw-cite-backlink\"><b><a href=\"#cite_ref-11\">^</a></b></span> <span class=\"reference-text\">H. Kautz. \"A formal theory of plan recognition\". In PhD thesis, University of Rochester, 1987.</span></li>\\n<li id=\"cite_note-12\"><span class=\"mw-cite-backlink\"><b><a href=\"#cite_ref-12\">^</a></b></span> <span class=\"reference-text\">N. Lesh and O. Etzioni. \"A sound and fast goal recognizer\". In <i>Proceedings of the International Joint Conference on Artificial Intelligence</i>, 1995.</span></li>\\n<li id=\"cite_note-13\"><span class=\"mw-cite-backlink\"><b><a href=\"#cite_ref-13\">^</a></b></span> <span class=\"reference-text\"><cite class=\"citation journal\">Do, Thang; Seng W. Loke; Fei Liu (2011). <a rel=\"nofollow\" class=\"external text\" href=\"https://link.springer.com/chapter/10.1007%2F978-3-642-21043-3_13\">\"Answer Set Programming for Stream Reasoning\"</a>. <i>Advances in Artificial Intelligence, Lecture Notes in Computer Science</i>. <b>6657</b>: 104–109.</cite><span title=\"ctx_ver=Z39.88-2004&amp;rfr_id=info%3Asid%2Fen.wikipedia.org%3AActivity+recognition&amp;rft.atitle=Answer+Set+Programming+for+Stream+Reasoning&amp;rft.au=Fei+Liu&amp;rft.au=Seng+W.+Loke&amp;rft.aufirst=Thang&amp;rft.aulast=Do&amp;rft.date=2011&amp;rft.genre=article&amp;rft.jtitle=Advances+in+Artificial+Intelligence%2C+Lecture+Notes+in+Computer+Science&amp;rft.pages=104-109&amp;rft.volume=6657&amp;rft_id=https%3A%2F%2Flink.springer.com%2Fchapter%2F10.1007%252F978-3-642-21043-3_13&amp;rft_val_fmt=info%3Aofi%2Ffmt%3Akev%3Amtx%3Ajournal\" class=\"Z3988\"><span style=\"display:none;\">&#160;</span></span></span></li>\\n<li id=\"cite_note-14\"><span class=\"mw-cite-backlink\"><b><a href=\"#cite_ref-14\">^</a></b></span> <span class=\"reference-text\"><cite class=\"citation journal\">Do, Thang; Seng W. Loke; Fei Liu (2012). <a rel=\"nofollow\" class=\"external text\" href=\"http://homepage.cs.latrobe.edu.au/sloke/papers/Mobiquitous2012.pdf\">\"HealthyLife: an Activity Recognition System with Smartphone using Logic-Based Stream Reasoning\"</a> <span style=\"font-size:85%;\">(PDF)</span>. <i>Proceedings of the 9th International Conference on Mobile and Ubiquitous Systems: Computing, Networking and Services, (Mobiquitous 2012)</i>.</cite><span title=\"ctx_ver=Z39.88-2004&amp;rfr_id=info%3Asid%2Fen.wikipedia.org%3AActivity+recognition&amp;rft.atitle=HealthyLife%3A+an+Activity+Recognition+System+with+Smartphone+using+Logic-Based+Stream+Reasoning&amp;rft.au=Fei+Liu&amp;rft.au=Seng+W.+Loke&amp;rft.aufirst=Thang&amp;rft.aulast=Do&amp;rft.date=2012&amp;rft.genre=article&amp;rft.jtitle=Proceedings+of+the+9th+International+Conference+on+Mobile+and+Ubiquitous+Systems%3A+Computing%2C+Networking+and+Services%2C+%28Mobiquitous+2012%29&amp;rft_id=http%3A%2F%2Fhomepage.cs.latrobe.edu.au%2Fsloke%2Fpapers%2FMobiquitous2012.pdf&amp;rft_val_fmt=info%3Aofi%2Ffmt%3Akev%3Amtx%3Ajournal\" class=\"Z3988\"><span style=\"display:none;\">&#160;</span></span></span></li>\\n<li id=\"cite_note-15\"><span class=\"mw-cite-backlink\"><b><a href=\"#cite_ref-15\">^</a></b></span> <span class=\"reference-text\">E. Charniak and R.P. Goldman. \"A Bayesian model of plan recognition\". <i>Artificial Intelligence</i>, 64:53–79, 1993.</span></li>\\n<li id=\"cite_note-16\"><span class=\"mw-cite-backlink\"><b><a href=\"#cite_ref-16\">^</a></b></span> <span class=\"reference-text\">M.R. Hodges and M.E. Pollack. \"An \\'object-use fingerprint\\': The use of electronic sensors for human identification\". In <i>Proceedings of the 9th International Conference on Ubiquitous Computing</i>, 2007.</span></li>\\n<li id=\"cite_note-17\"><span class=\"mw-cite-backlink\"><b><a href=\"#cite_ref-17\">^</a></b></span> <span class=\"reference-text\">Mike Perkowitz, Matthai Philipose, Donald J. Patterson, and Kenneth P. Fishkin. \"Mining models of human activities from the web\". In <i>Proceedings of the Thirteenth International World Wide Web Conference (WWW 2004), pages 573–582, May 2004.</i></span></li>\\n<li id=\"cite_note-18\"><span class=\"mw-cite-backlink\"><b><a href=\"#cite_ref-18\">^</a></b></span> <span class=\"reference-text\">Matthai Philipose, Kenneth P. Fishkin, Mike Perkowitz, Donald J. Patterson, Dieter Fox, Henry Kautz, and Dirk Hähnel. \"Inferring activities from interactions with objects\". In <i>IEEE Pervasive Computing</i>, pages 50–57, October 2004.</span></li>\\n<li id=\"cite_note-19\"><span class=\"mw-cite-backlink\"><b><a href=\"#cite_ref-19\">^</a></b></span> <span class=\"reference-text\">Dieter Fox Lin Liao, Donald J. Patterson and Henry A. Kautz. \"Learning and inferring transportation routines\". <i>Artif. Intell.</i>, 171(5-6):311–331, 2007.</span></li>\\n<li id=\"cite_note-20\"><span class=\"mw-cite-backlink\"><b><a href=\"#cite_ref-20\">^</a></b></span> <span class=\"reference-text\">Piyathilaka, L.; Kodagoda, S., \"Gaussian mixture based HMM for human daily activity recognition using 3D skeleton features,\" Industrial Electronics and Applications (ICIEA), 2013 8th IEEE Conference on, vol., no., pp.567,572, 19–21 June 2013</span></li>\\n<li id=\"cite_note-21\"><span class=\"mw-cite-backlink\"><b><a href=\"#cite_ref-21\">^</a></b></span> <span class=\"reference-text\">TLM van Kasteren, Gwenn Englebienne, BJA Kröse. \"Human activity recognition from wireless sensor network data: Benchmark and software.\" Activity Recognition in Pervasive Intelligent Environments, 165-186, Atlantis Press</span></li>\\n<li id=\"cite_note-:0-22\"><span class=\"mw-cite-backlink\">^ <a href=\"#cite_ref-:0_22-0\"><sup><i><b>a</b></i></sup></a> <a href=\"#cite_ref-:0_22-1\"><sup><i><b>b</b></i></sup></a> <a href=\"#cite_ref-:0_22-2\"><sup><i><b>c</b></i></sup></a></span> <span class=\"reference-text\">TLM van Kasteren, Gwenn Englebienne, Ben Kröse\" <a rel=\"nofollow\" class=\"external text\" href=\"https://sites.google.com/site/tim0306/amiKasterenHierch.pdf?attredirects=0\">Hierarchical Activity Recognition Using Automatically Clustered Actions</a>\", 2011, Ambient Intelligence, 82-91, Springer Berlin/Heidelberg</span></li>\\n<li id=\"cite_note-23\"><span class=\"mw-cite-backlink\"><b><a href=\"#cite_ref-23\">^</a></b></span> <span class=\"reference-text\">Daniel Wilson and Chris Atkeson. Simultaneous tracking and activityrecognition (star) using many anonymous binary sensors. In Proceedings of the 3rd international conference on Pervasive Computing, Pervasive, pages 62–79, Munich, Germany, 2005.</span></li>\\n<li id=\"cite_note-24\"><span class=\"mw-cite-backlink\"><b><a href=\"#cite_ref-24\">^</a></b></span> <span class=\"reference-text\"><a href=\"/wiki/Nuria_Oliver\" title=\"Nuria Oliver\">Nuria Oliver</a>, Barbara Rosario and <a href=\"/wiki/Alex_Pentland\" title=\"Alex Pentland\">Alex Pentland</a> \"A Bayesian Computer Vision System for Modeling Human Interactions\" Appears in PAMI Special Issue on Visual Surveillance and Monitoring, Aug 00</span></li>\\n<li id=\"cite_note-25\"><span class=\"mw-cite-backlink\"><b><a href=\"#cite_ref-25\">^</a></b></span> <span class=\"reference-text\">TLM Van Kasteren, Athanasios Noulas, Gwenn Englebienne, Ben Kröse, \"Accurate activity recognition in a home setting\", 2008/9/21, Proceedings of the 10th international conference on Ubiquitous computing, 1-9, ACM</span></li>\\n<li id=\"cite_note-26\"><span class=\"mw-cite-backlink\"><b><a href=\"#cite_ref-26\">^</a></b></span> <span class=\"reference-text\">Derek Hao Hu, Sinno Jialin Pan, Vincent Wenchen Zheng, Nathan NanLiu, and Qiang Yang. Real world activity recognition with multiple goals.In Proceedings of the 10th international conference on Ubiquitous computing, Ubicomp, pages 30–39, New York, NY, USA, 2008. ACM.</span></li>\\n<li id=\"cite_note-:1-27\"><span class=\"mw-cite-backlink\">^ <a href=\"#cite_ref-:1_27-0\"><sup><i><b>a</b></i></sup></a> <a href=\"#cite_ref-:1_27-1\"><sup><i><b>b</b></i></sup></a></span> <span class=\"reference-text\"><a href=\"/wiki/Nuria_Oliver\" title=\"Nuria Oliver\">Nuria Oliver</a>, Ashutosh Garg, and Eric Horvitz. Layered representations for learning and inferring office activity from multiple sensory channels. Comput. Vis. Image Underst., 96(2):163–180, 2004.</span></li>\\n<li id=\"cite_note-28\"><span class=\"mw-cite-backlink\"><b><a href=\"#cite_ref-28\">^</a></b></span> <span class=\"reference-text\">Amarnag Subramanya, Alvin Raj, Jeff Bilmes, and Dieter Fox. Hierarchical models for activity recognition. In Proceedings of the international conference on Multimedia Signal Processing, MMSP, Victoria, CA, October 2006.</span></li>\\n<li id=\"cite_note-29\"><span class=\"mw-cite-backlink\"><b><a href=\"#cite_ref-29\">^</a></b></span> <span class=\"reference-text\">Tao Gu, Zhanqing Wu, Xianping Tao, Hung Keng Pung, and Jian Lu. epSICAR: An Emerging Patterns based Approach to Sequential, Interleaved and Concurrent Activity Recognition. In Proc. of the 7th Annual IEEE International Conference on Pervasive Computing and Communications (Percom \\'09), Galveston, Texas, March 9–13, 2009.</span></li>\\n<li id=\"cite_note-30\"><span class=\"mw-cite-backlink\"><b><a href=\"#cite_ref-30\">^</a></b></span> <span class=\"reference-text\">Gilbert A, Illingworth J, Bowden R. Action Recognition using Mined Hierarchical Compound Features. IEEE Trans Pattern Analysis and Machine Learning</span></li>\\n<li id=\"cite_note-31\"><span class=\"mw-cite-backlink\"><b><a href=\"#cite_ref-31\">^</a></b></span> <span class=\"reference-text\">Piyathilaka, L.; Kodagoda, S., \"<a rel=\"nofollow\" class=\"external text\" href=\"http://ieeexplore.ieee.org/stamp/stamp.jsp?tp=&amp;arnumber=6566433&amp;isnumber=6566328\">Gaussian mixture based HMM for human daily activity recognition using 3D skeleton features</a>,\" Industrial Electronics and Applications (ICIEA), 2013 8th IEEE Conference on, vol., no., pp.567,572, 19–21 June 2013 URL: <a rel=\"nofollow\" class=\"external free\" href=\"http://ieeexplore.ieee.org/stamp/stamp.jsp?tp=&amp;arnumber=6566433&amp;isnumber=6566328\">http://ieeexplore.ieee.org/stamp/stamp.jsp?tp=&amp;arnumber=6566433&amp;isnumber=6566328</a></span></li>\\n<li id=\"cite_note-Damasevicius2016-32\"><span class=\"mw-cite-backlink\"><b><a href=\"#cite_ref-Damasevicius2016_32-0\">^</a></b></span> <span class=\"reference-text\">R. Damaševičius, M. Vasiljevas, J. Šalkevičius, and M. Woźniak, <a rel=\"nofollow\" class=\"external text\" href=\"https://www.researchgate.net/publication/304187762_Human_Activity_Recognition_in_AAL_Environments_Using_Random_Projections\">Human Activity Recognition in AAL Environments Using Random Projections</a>, Computational and Mathematical Methods in Medicine, vol. 2016, Article ID 4073584, 17 pages, 2016. doi:10.1155/2016/4073584</span></li>\\n<li id=\"cite_note-33\"><span class=\"mw-cite-backlink\"><b><a href=\"#cite_ref-33\">^</a></b></span> <span class=\"reference-text\">Jie Yin, Xiaoyong Chai and Qiang Yang, \"High-level Goal Recognition in a Wireless LAN\". In <i>Proceedings of the Nineteenth National Conference on Artificial Intelligence</i> (AAAI-04), San Jose, CA USA, July 2004. Pages 578-584</span></li>\\n<li id=\"cite_note-34\"><span class=\"mw-cite-backlink\"><b><a href=\"#cite_ref-34\">^</a></b></span> <span class=\"reference-text\">Xiaoyong Chai and Qiang Yang, \"Multiple-Goal Recognition From Low-level Signals\". <i>Proceedings of the Twentieth National Conference on Artificial Intelligence</i> (AAAI 2005), Pittsburg, PA USA, July 2005. Pages 3-8.</span></li>\\n<li id=\"cite_note-35\"><span class=\"mw-cite-backlink\"><b><a href=\"#cite_ref-35\">^</a></b></span> <span class=\"reference-text\">Derek Hao Hu, Qiang Yang. \"CIGAR: Concurrent and Interleaving Goal and Activity Recognition\", to appear in AAAI 2008</span></li>\\n<li id=\"cite_note-36\"><span class=\"mw-cite-backlink\"><b><a href=\"#cite_ref-36\">^</a></b></span> <span class=\"reference-text\">Jie Yin, Dou Shen, Qiang Yang and Ze-nian Li \"Activity Recognition through Goal-Based Segmentation\". <i>Proceedings of the Twentieth National Conference on Artificial Intelligence</i> (AAAI 2005), Pittsburg, PA USA, July 2005. Pages 28-33.</span></li>\\n<li id=\"cite_note-37\"><span class=\"mw-cite-backlink\"><b><a href=\"#cite_ref-37\">^</a></b></span> <span class=\"reference-text\">Jie Yin, Qiang Yang and Lionel Ni. \"Adaptive Temporal Radio Maps for Indoor Location Estimation\". In <i>Proceedings of the 3rd Annual IEEE International Conference on Pervasive Computing and Communications</i> (IEEE PerCom 2005), Kauai Island, Hawaii, March, 2005. Pages 85-94.</span></li>\\n<li id=\"cite_note-38\"><span class=\"mw-cite-backlink\"><b><a href=\"#cite_ref-38\">^</a></b></span> <span class=\"reference-text\">Xiaoyong Chai and Qiang Yang. \"Reducing the Calibration Effort for Location Estimation Using Unlabeled Samples\". In <i>Proceedings of the 3rd Annual IEEE International Conference on Pervasive Computing and Communications</i>, (IEEE PerCom 2005) Kauai Island, Hawaii, March 2005. Pages 95--104.</span></li>\\n<li id=\"cite_note-39\"><span class=\"mw-cite-backlink\"><b><a href=\"#cite_ref-39\">^</a></b></span> <span class=\"reference-text\">Jeffrey Junfeng Pan, Qiang Yang and Sinno Jialin Pan. \"Online Co-Localization in Indoor Wireless Networks\". In <i>Proceedings of the 22nd AAAI Conference on Artificial Intelligence</i> (AAAI\\'07) Vancouver, British Columbia, Canada. July 2007. 1102-1107</span></li>\\n<li id=\"cite_note-40\"><span class=\"mw-cite-backlink\"><b><a href=\"#cite_ref-40\">^</a></b></span> <span class=\"reference-text\">Sinno Jialin Pan, James T. Kwok, Qiang Yang, Jeffrey Junfeng Pan. \"Adaptive localization in a dynamic WiFi environment through multi-view learning\". In <i>Proceedings of the 22nd AAAI Conference on Artificial Intelligence</i> (AAAI\\'07) Vancouver, British Columbia, Canada. July 2007. 1108-1113</span></li>\\n<li id=\"cite_note-41\"><span class=\"mw-cite-backlink\"><b><a href=\"#cite_ref-41\">^</a></b></span> <span class=\"reference-text\"><a href=\"/wiki/Martha_E._Pollack\" title=\"Martha E. Pollack\">Pollack, M.E.</a>, and et al., L. E. B. 2003. \"Autominder: an intelligent cognitive orthotic system for people with memory impairment\". <i>Robotics and Autonomous Systems</i> 44(3-4):273–282.</span></li>\\n</ol>\\n</div>\\n</div>\\n\\n\\n<!-- \\nNewPP limit report\\nParsed by mw1326\\nCached time: 20171028233928\\nCache expiry: 1900800\\nDynamic content: false\\nCPU time usage: 0.120 seconds\\nReal time usage: 0.144 seconds\\nPreprocessor visited node count: 642/1000000\\nPreprocessor generated node count: 0/1500000\\nPost‐expand include size: 4428/2097152 bytes\\nTemplate argument size: 84/2097152 bytes\\nHighest expansion depth: 7/40\\nExpensive parser function count: 0/500\\nLua time usage: 0.030/10.000 seconds\\nLua memory usage: 1.51 MB/50 MB\\n-->\\n<!--\\nTransclusion expansion time report (%,ms,calls,template)\\n100.00%   95.472      1 -total\\n 67.92%   64.849      1 Template:Reflist\\n 42.06%   40.159      2 Template:Cite_journal\\n 25.44%   24.289      1 Template:Main\\n  1.53%    1.457      1 Template:Main_other\\n-->\\n</div>\\n<!-- Saved in parser cache with key enwiki:pcache:idhash:15795950-0!canonical and timestamp 20171028233927 and revision id 800590113\\n -->\\n'},\n",
       " 'title': 'Activity recognition'}"
      ]
     },
     "execution_count": 14,
     "metadata": {},
     "output_type": "execute_result"
    }
   ],
   "source": [
    "next(wiki_cursor)"
   ]
  },
  {
   "cell_type": "code",
   "execution_count": 30,
   "metadata": {},
   "outputs": [
    {
     "data": {
      "text/plain": [
       "1"
      ]
     },
     "execution_count": 30,
     "metadata": {},
     "output_type": "execute_result"
    }
   ],
   "source": [
    "page_ref.count()"
   ]
  },
  {
   "cell_type": "code",
   "execution_count": 16,
   "metadata": {
    "collapsed": true,
    "scrolled": true
   },
   "outputs": [],
   "source": [
    "wiki_cursor = page_ref.find({'pageid': 15795950})"
   ]
  },
  {
   "cell_type": "code",
   "execution_count": 17,
   "metadata": {},
   "outputs": [
    {
     "data": {
      "text/plain": [
       "<pymongo.cursor.Cursor at 0x7eff4515d160>"
      ]
     },
     "execution_count": 17,
     "metadata": {},
     "output_type": "execute_result"
    }
   ],
   "source": [
    "page_ref.find()"
   ]
  },
  {
   "cell_type": "code",
   "execution_count": 18,
   "metadata": {},
   "outputs": [
    {
     "data": {
      "text/plain": [
       "['admin', 'local', 'my_database', 'test', 'wiki']"
      ]
     },
     "execution_count": 18,
     "metadata": {},
     "output_type": "execute_result"
    }
   ],
   "source": [
    "client.database_names()"
   ]
  },
  {
   "cell_type": "code",
   "execution_count": 31,
   "metadata": {
    "collapsed": true
   },
   "outputs": [],
   "source": [
    "page_ref.drop()"
   ]
  },
  {
   "cell_type": "code",
   "execution_count": 32,
   "metadata": {},
   "outputs": [
    {
     "data": {
      "text/plain": [
       "0"
      ]
     },
     "execution_count": 32,
     "metadata": {},
     "output_type": "execute_result"
    }
   ],
   "source": [
    "page_ref.count()"
   ]
  },
  {
   "cell_type": "code",
   "execution_count": 41,
   "metadata": {
    "collapsed": true
   },
   "outputs": [],
   "source": [
    "client.close()"
   ]
  },
  {
   "cell_type": "code",
   "execution_count": 42,
   "metadata": {},
   "outputs": [
    {
     "data": {
      "text/plain": [
       "<pymongo.results.InsertOneResult at 0x7ff0b4990e10>"
      ]
     },
     "execution_count": 42,
     "metadata": {},
     "output_type": "execute_result"
    }
   ],
   "source": [
    "page_ref.insert_one(content)"
   ]
  },
  {
   "cell_type": "code",
   "execution_count": 31,
   "metadata": {
    "collapsed": true
   },
   "outputs": [],
   "source": [
    "df = pd.read_csv('data/list_of_pages.csv')"
   ]
  },
  {
   "cell_type": "code",
   "execution_count": 32,
   "metadata": {},
   "outputs": [
    {
     "data": {
      "text/html": [
       "<div>\n",
       "<table border=\"1\" class=\"dataframe\">\n",
       "  <thead>\n",
       "    <tr style=\"text-align: right;\">\n",
       "      <th></th>\n",
       "      <th>ns</th>\n",
       "      <th>pageid</th>\n",
       "      <th>title</th>\n",
       "    </tr>\n",
       "  </thead>\n",
       "  <tbody>\n",
       "    <tr>\n",
       "      <th>0</th>\n",
       "      <td>0.0</td>\n",
       "      <td>15795950.0</td>\n",
       "      <td>Activity recognition</td>\n",
       "    </tr>\n",
       "    <tr>\n",
       "      <th>1</th>\n",
       "      <td>0.0</td>\n",
       "      <td>41916168.0</td>\n",
       "      <td>AlchemyAPI</td>\n",
       "    </tr>\n",
       "    <tr>\n",
       "      <th>2</th>\n",
       "      <td>0.0</td>\n",
       "      <td>55075082.0</td>\n",
       "      <td>BigDL</td>\n",
       "    </tr>\n",
       "    <tr>\n",
       "      <th>3</th>\n",
       "      <td>0.0</td>\n",
       "      <td>53631046.0</td>\n",
       "      <td>Caffe (software)</td>\n",
       "    </tr>\n",
       "    <tr>\n",
       "      <th>4</th>\n",
       "      <td>0.0</td>\n",
       "      <td>49119569.0</td>\n",
       "      <td>Comparison of deep learning software</td>\n",
       "    </tr>\n",
       "  </tbody>\n",
       "</table>\n",
       "</div>"
      ],
      "text/plain": [
       "    ns      pageid                                 title\n",
       "0  0.0  15795950.0                  Activity recognition\n",
       "1  0.0  41916168.0                            AlchemyAPI\n",
       "2  0.0  55075082.0                                 BigDL\n",
       "3  0.0  53631046.0                      Caffe (software)\n",
       "4  0.0  49119569.0  Comparison of deep learning software"
      ]
     },
     "execution_count": 32,
     "metadata": {},
     "output_type": "execute_result"
    }
   ],
   "source": [
    "df.head()"
   ]
  },
  {
   "cell_type": "code",
   "execution_count": 35,
   "metadata": {
    "collapsed": true
   },
   "outputs": [],
   "source": [
    "tmp = df.drop('ns', axis = 1)"
   ]
  },
  {
   "cell_type": "code",
   "execution_count": 36,
   "metadata": {
    "collapsed": true
   },
   "outputs": [],
   "source": [
    "tmp = tmp.drop_duplicates()"
   ]
  },
  {
   "cell_type": "code",
   "execution_count": 37,
   "metadata": {},
   "outputs": [
    {
     "data": {
      "text/plain": [
       "(46010, 2)"
      ]
     },
     "execution_count": 37,
     "metadata": {},
     "output_type": "execute_result"
    }
   ],
   "source": [
    "tmp.shape"
   ]
  },
  {
   "cell_type": "code",
   "execution_count": null,
   "metadata": {
    "collapsed": true
   },
   "outputs": [],
   "source": []
  }
 ],
 "metadata": {
  "kernelspec": {
   "display_name": "Python 3",
   "language": "python",
   "name": "python3"
  },
  "language_info": {
   "codemirror_mode": {
    "name": "ipython",
    "version": 3
   },
   "file_extension": ".py",
   "mimetype": "text/x-python",
   "name": "python",
   "nbconvert_exporter": "python",
   "pygments_lexer": "ipython3",
   "version": "3.6.2"
  }
 },
 "nbformat": 4,
 "nbformat_minor": 2
}
